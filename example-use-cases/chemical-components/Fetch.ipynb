{
 "cells": [
  {
   "cell_type": "markdown",
   "id": "608705e1-ae70-478f-9701-b4c4248acfbe",
   "metadata": {},
   "source": [
    "# Fetch Chemical Components IDs"
   ]
  },
  {
   "cell_type": "markdown",
   "id": "b6796f66-3cae-45fe-9ae0-e1385fee55cd",
   "metadata": {},
   "source": [
    "## Introduction\n",
    "\n",
    "Many structures in the [RCSB Protein Data Bank](https://www.rcsb.org) contain chemical components that are not amino acids. This includes cofactors like NAD<sup>+</sup> or thiamine pyrophosphate, substrate analogs, metal ions, or drug candidates. Structure files in the RCSB PDB include these chemical components in clearly structured formats that can be readily identified and retrieved. Each chemical components has a unique alphanumeric identifier (e.g., NDP for NADPH or dihydro-nicotinamide-adenine-dinucleotide phosphate) in a number of computer compatible formats. This notebook is designed to help you identify chemical components by their IDs and then fetch the SMILES, InChI, etc. strings associated with them.\n",
    "\n",
    "Inputs: id, name, formula, pdbx_formal_charge, formula_weight, or type\n",
    "Outputs: InChI, InChIKey,SMILES, SMILES_stereo\n",
    "\n",
    "The code in this notebook is designed to perform the following tasks:\n",
    "\n",
    "1. Run a search to retrieve all desired chemical component IDs\n",
    "2. Use a data API query to retrieve data on all chemical components\n",
    "\n",
    "### Notebooks in the Fetch Series\n",
    "\n",
    "1. *Fetch Chemical Component IDs* (this notebook)\n",
    "2. Fetch *** (assuming more notebooks are planned in this series)\n",
    "3. Fetch ***\n",
    "\n",
    "### Questions\n",
    "\n",
    "* What types of chemical components are found in the RCSB PDB?\n",
    "* What is a SMILES string? an InChIKey?\n",
    "* How can I obtain computationally compatible versions of chemical components that are found in the RCSB PDB website?\n",
    "* How can I expand or shrink the output from a search?\n",
    "\n",
    "### Learning Objectives\n",
    "\n",
    "* To search for and retrieve chemical component data from the RCSB PDB\n",
    "* To store the obtained data in file formats or data structures that will be useful in future computation.\n",
    "\n",
    "### Purpose\n",
    "\n",
    "This notebook is designed to help you fetch all chemical component IDs and then fetch the SMILES, InChI, etc. strings associated with them. "
   ]
  },
  {
   "cell_type": "markdown",
   "id": "8608c310-ce0f-4cd5-8f38-eeee3d724207",
   "metadata": {},
   "source": [
    "## Libraries\n",
    "\n",
    "These libraries will be called in the coding cells in this notebook. \n",
    "\n",
    "| Library | Abbreviation |Contents | Source |\n",
    "| :-----: | ------------ | :------- | :----- |\n",
    "| json | json | library for working with JavaScript Object Notation for data interchange| [json — JSON encoder and decoder](https://docs.python.org/3/library/json.html) |\n",
    "| rcsbsearchapi | N/A | library for automated searching of the [RCSB Protein Data Bank](https://www.rcsb.org)| [py-rcsbsearchapi on GitHub](https://github.com/rcsb/py-rcsbsearchapi) |\n",
    "| python_graphql_client | GraphQL | library for making requests from a graphql server | [PyPi page on python_graphql_client](https://pypi.org/project/python-graphql-client/) |\n"
   ]
  },
  {
   "cell_type": "markdown",
   "id": "8d08a9f3-ec48-4be0-9a2f-4dec1ff26c93",
   "metadata": {},
   "source": [
    "## Installation\n",
    "\n",
    "To use this notebook, you will need to have the following libraries installed in your computing environment: json, rcsbsearchapi, python_graphql_client. To install from the command line on your computer, use this command:\n",
    "\n",
    "`pip install json`\\\n",
    "`pip install rcsbsearchapi`\\\n",
    "`pip install python_graphql_client`\n",
    "\n",
    "To install from within a Jupyter notebook or CoLab notebook, you need to type the same command in a coding cell, preceded by an exclamation point.\n",
    "\n",
    "`!pip install json`\\\n",
    "`!pip install rcsbsearchapi`\\\n",
    "`!pip install python_graphql_client`\n",
    "\n"
   ]
  },
  {
   "cell_type": "code",
   "execution_count": null,
   "id": "bee74152-3ac4-4257-be2a-f2de3bbea49c",
   "metadata": {},
   "outputs": [],
   "source": [
    "# Use this coding cell to install necessary libraries if they are not already in your system or environment\n",
    "!pip install json\n",
    "!pip install rcsbsearchapi\n",
    "!pip install python_graphql_client"
   ]
  },
  {
   "cell_type": "markdown",
   "id": "0edae8a4-a3bb-4f47-a506-9a68a5a7f910",
   "metadata": {},
   "source": [
    "## Notebook Contents\n",
    "\n",
    "Then coding cell below contains all of the raw code for this example. **Experienced coders** should use this as you see fit.\n",
    "\n",
    "For **novice coders**, the code is broken up into smaller chunks in the subsequent coding cells, with stepwise inputs and outputs to better explain how this code can be used."
   ]
  },
  {
   "cell_type": "code",
   "execution_count": null,
   "id": "eb7b9186-c308-41b8-a303-8f24775b526d",
   "metadata": {},
   "outputs": [],
   "source": [
    "# For Experienced Coders\n",
    "\n",
    "# Minimal Python script to fetch all chemical component IDs and then \n",
    "# fetch the SMILES, InChI, etc. strings associated with them\n",
    "# Requires the following modules to be installed:\n",
    "\n",
    "import json\n",
    "from rcsbsearchapi.search import AttributeQuery\n",
    "from python_graphql_client import GraphqlClient as GraphQL\n",
    "\n",
    "# Step 1: Run search to retrieve all chemical component IDs\n",
    "q1 = AttributeQuery(\"rcsb_chem_comp_container_identifiers.comp_id\", \"exists\", service=\"text_chem\")\n",
    "results = [mol for mol in q1(\"mol_definition\")]\n",
    "\n",
    "subListSize = 300\n",
    "resultsSubListL = [results[i:i+subListSize] for i in range(0, len(results), subListSize)]\n",
    "\n",
    "# Step 2: Run data API query to retrieve data on all chemical components\n",
    "url_data_api = 'https://data.rcsb.org/graphql'\n",
    "client = GraphqlClient(endpoint=url_data_api)  # instantiate client with the RCSB Data API endpoint\n",
    "query_method = \"\"\"\n",
    "query structure ($comp_ids: [String!]!) {\n",
    "  chem_comps(comp_ids:$comp_ids){\n",
    "        chem_comp {\n",
    "            id\n",
    "            name\n",
    "            formula\n",
    "            pdbx_formal_charge\n",
    "            formula_weight\n",
    "            type\n",
    "        }\n",
    "        rcsb_chem_comp_descriptor {\n",
    "            InChI\n",
    "            InChIKey\n",
    "            SMILES\n",
    "            SMILES_stereo\n",
    "        }\n",
    "    }\n",
    "}\n",
    "\"\"\"\n",
    "\n",
    "# Iterate over each sublist and perform the data API query\n",
    "for subList in resultsSubListL:\n",
    "    query_variables = {\"comp_ids\": subList}\n",
    "    dataResult = client.execute(query=query_method, variables=query_variables)\n",
    "    data = dataResult['data']  # This will contain your data API query results--process/rewrangle this as needed or desired\n",
    "    # Print out the first result\n",
    "    print(json.dumps(data[\"chem_comps\"][0], indent=2))  # Probably don't want to print out everything, but this is one way to do it while testing"
   ]
  },
  {
   "cell_type": "markdown",
   "id": "99c39144-6d81-43e6-b6ca-c4bcf76dc2e1",
   "metadata": {},
   "source": [
    "## Importing Libraries\n",
    "\n",
    "The following simply imports the required libraries that contain the methods that are called in this notebook."
   ]
  },
  {
   "cell_type": "code",
   "execution_count": null,
   "id": "d7139dd2-5aaa-4491-a96e-f5f926eacd27",
   "metadata": {},
   "outputs": [],
   "source": [
    "# For novice or intermediate coders - importing resources\n",
    "\n",
    "# Requires the following modules to be installed on your system and then imported using these commands:\n",
    "\n",
    "import json\n",
    "from rcsbsearchapi.search import AttributeQuery\n",
    "from python_graphql_client import GraphqlClient as GraphQL\n"
   ]
  },
  {
   "cell_type": "markdown",
   "id": "da9f910e-9b92-4fc0-823d-ad545b725056",
   "metadata": {},
   "source": [
    "## Step 1 \n",
    "\n",
    "To start this process need to use the AttributeQuery method from rcsbsearchapi.search library. In the next coding cell, we will search the RCSB PDB website for the ID of chemical components found on the website. This is then converted to a list and the final command simply tells us the number of items in that list."
   ]
  },
  {
   "cell_type": "code",
   "execution_count": null,
   "id": "490ee066-4eda-45d7-b7dc-554925c756ad",
   "metadata": {},
   "outputs": [],
   "source": [
    "# Step 1: Run search to retrieve all chemical component IDs\n",
    "\n",
    "# Paul - I need an explanation for standard terms I have not seen before. \n",
    "# Paul - rcsb_chem_container_identifiers.comp_id - this looks like a searchable term, but I have not seen it before.\n",
    "\n",
    "q1 = AttributeQuery(\"rcsb_chem_comp_container_identifiers.comp_id\", \"exists\", service=\"text_chem\")\n",
    "results = [mol for mol in q1(\"mol_definition\")]  # Paul - I am not familiar with the use of a for loop in this setting. I'm not sure how to deal with this.\n",
    "\n",
    "subListSize = 300\n",
    "resultsSubListL = [results[i:i+subListSize] for i in range(0, len(results), subListSize)]\n",
    "\n",
    "# Paul - I suggest including the next line of code. Before printing anything, let's find out how many items were returned by the search\n",
    "print(f\"There are {len(results)} chemical components in the RCSB PDB.\")\n"
   ]
  },
  {
   "cell_type": "markdown",
   "id": "c1076ea3-8ba7-458a-8038-cebb407727a2",
   "metadata": {},
   "source": [
    "## Step 2\n",
    "\n",
    "In this step, we first declare a variable that points to the data API on the RCSB PDB website. Then the query extracts data about the chemical components into a dictionary. The query_method shows how the data will be returned."
   ]
  },
  {
   "cell_type": "code",
   "execution_count": null,
   "id": "7fbbe1d9-bd7f-4cf4-b568-28f47dee91b9",
   "metadata": {},
   "outputs": [],
   "source": [
    "# Step 2: Run data API query to retrieve data on all chemical components\n",
    "\n",
    "# Paul - these comments need a lot more detail for novice coders. It might even be good to have a markdown cell before each coding cell to explain what's coming up next.\n",
    "\n",
    "url_data_api = 'https://data.rcsb.org/graphql'\n",
    "client = GraphQL(endpoint=url_data_api)  # instantiate client with the RCSB Data API endpoint\n",
    "\n",
    "# Paul - how was this query_method generated? Was it just clipped from an Advanced Search page on the PDB?\n",
    "\n",
    "query_method = \"\"\"\n",
    "query structure ($comp_ids: [String!]!) {\n",
    "  chem_comps(comp_ids:$comp_ids){\n",
    "        chem_comp {\n",
    "            id\n",
    "            name\n",
    "            formula\n",
    "            pdbx_formal_charge\n",
    "            formula_weight\n",
    "            type\n",
    "        }\n",
    "        rcsb_chem_comp_descriptor {\n",
    "            InChI\n",
    "            InChIKey\n",
    "            SMILES\n",
    "            SMILES_stereo\n",
    "        }\n",
    "    }\n",
    "}\n",
    "\"\"\""
   ]
  },
  {
   "cell_type": "markdown",
   "id": "0f74db77-1910-4377-ba13-aeac6914b6d8",
   "metadata": {},
   "source": [
    "## Step 3\n",
    "\n",
    "The final step is to produce the results we want to see and store for future use. "
   ]
  },
  {
   "cell_type": "code",
   "execution_count": null,
   "id": "6b1f822a-8636-4a06-8292-40f805ce979d",
   "metadata": {},
   "outputs": [],
   "source": [
    "# Iterate over each sublist and perform the data API query\n",
    "for subList in resultsSubListL:\n",
    "    query_variables = {\"comp_ids\": subList}\n",
    "    dataResult = client.execute(query=query_method, variables=query_variables)\n",
    "    data = dataResult['data']  # This will contain your data API query results--process/rewrangle this as needed or desired\n",
    "    # Print out the first result\n",
    "    print(json.dumps(data[\"chem_comps\"][0], indent=2))  # Probably don't want to print out everything, but this is one way to do it while testing"
   ]
  },
  {
   "cell_type": "markdown",
   "id": "a2744d3c-6f66-4616-b549-0ba9cc378158",
   "metadata": {},
   "source": [
    "## Results\n",
    "\n",
    "* Explain the results of this search\n",
    "* Describe how these data can be used in their current format\n",
    "* Describe how these data can be converted to another format (e.g., pandas dataframe) for storage (e.g., export to csv) or for use in another setting"
   ]
  },
  {
   "cell_type": "code",
   "execution_count": null,
   "id": "32918775-d18a-435b-96de-2406b70aa706",
   "metadata": {},
   "outputs": [],
   "source": []
  }
 ],
 "metadata": {
  "kernelspec": {
   "display_name": "Python 3 (ipykernel)",
   "language": "python",
   "name": "python3"
  },
  "language_info": {
   "codemirror_mode": {
    "name": "ipython",
    "version": 3
   },
   "file_extension": ".py",
   "mimetype": "text/x-python",
   "name": "python",
   "nbconvert_exporter": "python",
   "pygments_lexer": "ipython3",
   "version": "3.12.2"
  }
 },
 "nbformat": 4,
 "nbformat_minor": 5
}
