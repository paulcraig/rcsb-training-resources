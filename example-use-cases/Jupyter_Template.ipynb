{
 "cells": [
  {
   "cell_type": "markdown",
   "id": "85f2eb45-36ae-4625-a221-80a7d7649019",
   "metadata": {},
   "source": [
    "# Title: Template for PDB Search Jupyter Notebooks"
   ]
  },
  {
   "cell_type": "markdown",
   "id": "89cfa83a-b5c2-4c6b-bb3d-5c7d5a051679",
   "metadata": {},
   "source": [
    "## Introduction\n",
    "\n",
    "Provide background information on the science behind this notebook and the kind of answers it can provide. Explain what the user can do with this notebook. Include details about\n",
    "* inputs and the associated variables\n",
    "* outputs and the associated variables\n",
    "\n",
    "Provide a list of the major steps in the coding process that happens in the notebook\n",
    "\n",
    "1. Step 1\n",
    "2. Step 2\n",
    "3. Step 3...\n",
    "\n",
    "Maintain a narrow focus and provide URLs for more in-depth resources.\n",
    "\n",
    "### For Notebooks in Series\n",
    "\n",
    "If you are creating a series of notebooks that address related issues or tasks, include a list of those notebooks here, summarize each one briefly and indicate which notebook this one is.\n",
    "\n",
    "**Notebook Series Title**\n",
    "| Notebook # | Notebook Title | Notebook Summary |\n",
    "| :--------- | :------------- | :--------------- |\n",
    "| 1 | Fetch-EC_Class | Use the API to fetch and group structures by EC Class |\n",
    "| 2 | Fetch-Ligands | Use the API to fetch ligands bound to a structure family |\n",
    "\n",
    "\n",
    "### Questions\n",
    "\n",
    "A list of questions that will be answered with the notebook\n",
    "\n",
    "### Learning Objectives\n",
    "\n",
    "Tasks that the user will learn to complete by using this notebook\n",
    "\n",
    "### Purpose\n",
    "\n",
    "This notebook is designed to ... In some ways this briefly summarizes the introduction."
   ]
  },
  {
   "cell_type": "markdown",
   "id": "22da5ae3-8838-4442-84ff-17214e0104c3",
   "metadata": {},
   "source": [
    "## Libraries\n",
    "\n",
    "A list of libraries that will need to be installed and imported to complete the tasks in the notebook.\n",
    "\n",
    "| Library | Abbreviation |Contents | Source |\n",
    "| :-----: | ------------ | :------- | :----- |\n",
    "| json | N/A | library for working with JavaScript Object Notation for data interchange| [json — JSON encoder and decoder](https://docs.python.org/3/library/json.html) |\n",
    "| rcsbsearchapi | N/A | library for automated searching of the [RCSB Protein Data Bank](https://www.rcsb.org)| [py-rcsbsearchapi on GitHub](https://github.com/rcsb/py-rcsbsearchapi) |\n",
    "| python_graphql_client | gql | library for making requests from a graphql server | [PyPi page on python_graphql_client](https://pypi.org/project/python-graphql-client/) |"
   ]
  },
  {
   "cell_type": "markdown",
   "id": "10422faa-2103-4bc8-9d5f-02d4e905c95a",
   "metadata": {},
   "source": [
    "## Installation\n",
    "\n",
    "These libraries will need to be installed in your computing environment to perform the tasks in this notebook.\n",
    "\n",
    "To install from the command line on your computer, use this command (with the `json` library as the example):\n",
    "\n",
    "`pip install json`\n",
    "\n",
    "To install from within a Jupyter notebook or CoLab notebook, you need to type the same command in a coding cell, preceded by an exclamation point.\n",
    "\n",
    "`!pip install json`\n",
    "\n",
    "These libraries will be imported as they are needed over the course of this notebook.\n"
   ]
  },
  {
   "cell_type": "markdown",
   "id": "0edae8a4-a3bb-4f47-a506-9a68a5a7f910",
   "metadata": {},
   "source": [
    "## Notebook Contents\n",
    "\n",
    "The next section of the notebook includes all of the raw code for this example. **Experienced coder** should use this as you see fit, either in this notebook or in your preferred environment.\n",
    "\n",
    "For **novice and intermediate coders**, the code is divided into sequential coding cells that each perform one step in the process. This notebook includes the following steps:\n",
    "\n",
    "1. Step 1\n",
    "2. Step 2\n",
    "3. Step 3..."
   ]
  },
  {
   "cell_type": "code",
   "execution_count": null,
   "id": "eb7b9186-c308-41b8-a303-8f24775b526d",
   "metadata": {},
   "outputs": [],
   "source": [
    "# Full block of raw code for EXPERIENCED CODERS\n"
   ]
  },
  {
   "cell_type": "code",
   "execution_count": null,
   "id": "598ee867-95c7-4460-9578-d44f96cb3787",
   "metadata": {},
   "outputs": [],
   "source": [
    "# Stepwise code for NOVICE and INTERMEDIATE CODERS\n",
    "\n",
    "# Installing the libraries"
   ]
  },
  {
   "cell_type": "code",
   "execution_count": null,
   "id": "7d3d52df-c75e-43d5-9a5f-1adedca89ac0",
   "metadata": {},
   "outputs": [],
   "source": [
    "# Importing the libraries with abbreviations"
   ]
  },
  {
   "cell_type": "markdown",
   "id": "9b83f357-31d4-436e-a4e9-d8d443a1aed0",
   "metadata": {},
   "source": [
    "### Step 1\n",
    "Insert a markdown cell before each block of executable code of novice or intermediate coders. Identify portions of the code they will need to modify by surrounding those terms with the single left quote \\` : `loop`, `variable`, `data structure`. "
   ]
  },
  {
   "cell_type": "code",
   "execution_count": null,
   "id": "d7139dd2-5aaa-4491-a96e-f5f926eacd27",
   "metadata": {},
   "outputs": [],
   "source": [
    "# Step 1 code with explanations of function definitions, \n",
    "# loops, variables, data structures."
   ]
  },
  {
   "cell_type": "markdown",
   "id": "e5d6bfae-d840-48b4-8675-fc8f11484e13",
   "metadata": {},
   "source": [
    "### Step 2 markdown cell"
   ]
  },
  {
   "cell_type": "code",
   "execution_count": null,
   "id": "761799c9-c644-4abc-8608-c0cde178d48f",
   "metadata": {},
   "outputs": [],
   "source": [
    "# Step 2 code with explanations"
   ]
  },
  {
   "cell_type": "markdown",
   "id": "962e9cc1-57da-4b38-a921-4ac229fa71af",
   "metadata": {},
   "source": [
    "### Step 3 markdown cell\n"
   ]
  },
  {
   "cell_type": "code",
   "execution_count": null,
   "id": "4d8292ba-01cf-4160-9c13-6a5973d8886d",
   "metadata": {},
   "outputs": [],
   "source": [
    "# Step 3 code with explanations"
   ]
  },
  {
   "cell_type": "markdown",
   "id": "199898ff-2cc7-4724-879c-0514b7f857ee",
   "metadata": {},
   "source": [
    "### Explanation of the type and location of outputs."
   ]
  },
  {
   "cell_type": "code",
   "execution_count": null,
   "id": "48c368ce-3d5b-4776-a5d6-a29ede76ce10",
   "metadata": {},
   "outputs": [],
   "source": [
    "# Typical results, plots, or other outputs"
   ]
  },
  {
   "cell_type": "code",
   "execution_count": null,
   "id": "6c075371-1d92-472b-9408-df54bdea620f",
   "metadata": {},
   "outputs": [],
   "source": []
  }
 ],
 "metadata": {
  "kernelspec": {
   "display_name": "Python 3 (ipykernel)",
   "language": "python",
   "name": "python3"
  },
  "language_info": {
   "codemirror_mode": {
    "name": "ipython",
    "version": 3
   },
   "file_extension": ".py",
   "mimetype": "text/x-python",
   "name": "python",
   "nbconvert_exporter": "python",
   "pygments_lexer": "ipython3",
   "version": "3.12.2"
  }
 },
 "nbformat": 4,
 "nbformat_minor": 5
}
