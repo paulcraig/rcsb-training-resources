{
 "cells": [
  {
   "cell_type": "markdown",
   "id": "608705e1-ae70-478f-9701-b4c4248acfbe",
   "metadata": {},
   "source": [
    "# Fetch Initial Release Date for All PDB IDs"
   ]
  },
  {
   "cell_type": "markdown",
   "id": "b6796f66-3cae-45fe-9ae0-e1385fee55cd",
   "metadata": {},
   "source": [
    "## Introduction\n",
    "\n",
    "The code in this notebook is designed to perform the following tasks:\n",
    "\n",
    "1. Use Data API to get a list of all PDB IDs currently released\n",
    "2. Use a Data API query to retrieve initial release data\n",
    "\n",
    "### Purpose\n",
    "\n",
    "This notebook is designed to help you fetch initial release dates for all PDB IDs"
   ]
  },
  {
   "cell_type": "markdown",
   "id": "8608c310-ce0f-4cd5-8f38-eeee3d724207",
   "metadata": {},
   "source": [
    "## Libraries\n",
    "\n",
    "These libraries will be called in the coding cells in this notebook. \n",
    "\n",
    "| Library |Contents | Source |\n",
    "| :-----: | :------- | :----- |\n",
    "| requests | simple HTTP library for Python | [documentation](https://requests.readthedocs.io/en/latest/)\n",
    "| dateutil | extensions to the standard datetime module | [documentation](https://dateutil.readthedocs.io/en/stable/)\n",
    "| rcsb-api | python interface for the API services at [RCSB Protein Data Bank](https://www.rcsb.org)| [py-rcsb-api on GitHub](https://github.com/rcsb/py-rcsb-api)"
   ]
  },
  {
   "cell_type": "markdown",
   "id": "8d08a9f3-ec48-4be0-9a2f-4dec1ff26c93",
   "metadata": {},
   "source": [
    "## Installation\n",
    "\n",
    "To use this notebook, you will need to have the following libraries installed in your computing environment: json, rcsbsearchapi, python_graphql_client. To install from the command line on your computer, use this command:\n",
    "\n",
    "`pip install python-dateutil`\\\n",
    "`pip install requests`\\\n",
    "`pip install rcsb-api`\n",
    "\n",
    "To install from within a Jupyter notebook or CoLab notebook, you need to type the same command in a coding cell, preceded by %:"
   ]
  },
  {
   "cell_type": "code",
   "execution_count": null,
   "id": "bee74152-3ac4-4257-be2a-f2de3bbea49c",
   "metadata": {},
   "outputs": [
    {
     "name": "stdout",
     "output_type": "stream",
     "text": [
      "Requirement already satisfied: requests in /usr/local/lib/python3.10/site-packages (2.31.0)\n",
      "Requirement already satisfied: charset-normalizer<4,>=2 in /usr/local/lib/python3.10/site-packages (from requests) (3.3.2)\n",
      "Requirement already satisfied: idna<4,>=2.5 in /usr/local/lib/python3.10/site-packages (from requests) (3.6)\n",
      "Requirement already satisfied: urllib3<3,>=1.21.1 in /usr/local/lib/python3.10/site-packages (from requests) (2.1.0)\n",
      "Requirement already satisfied: certifi>=2017.4.17 in /usr/local/lib/python3.10/site-packages (from requests) (2023.11.17)\n",
      "Note: you may need to restart the kernel to use updated packages.\n",
      "Requirement already satisfied: rcsb-api in /usr/local/lib/python3.10/site-packages (1.0.0)\n",
      "Requirement already satisfied: requests>=2.0.0 in /usr/local/lib/python3.10/site-packages (from rcsb-api) (2.31.0)\n",
      "Requirement already satisfied: rustworkx in /usr/local/lib/python3.10/site-packages (from rcsb-api) (0.15.1)\n",
      "Requirement already satisfied: graphql-core in /usr/local/lib/python3.10/site-packages (from rcsb-api) (3.2.5)\n",
      "Requirement already satisfied: tqdm in /usr/local/lib/python3.10/site-packages (from rcsb-api) (4.67.1)\n",
      "Requirement already satisfied: charset-normalizer<4,>=2 in /usr/local/lib/python3.10/site-packages (from requests>=2.0.0->rcsb-api) (3.3.2)\n",
      "Requirement already satisfied: idna<4,>=2.5 in /usr/local/lib/python3.10/site-packages (from requests>=2.0.0->rcsb-api) (3.6)\n",
      "Requirement already satisfied: urllib3<3,>=1.21.1 in /usr/local/lib/python3.10/site-packages (from requests>=2.0.0->rcsb-api) (2.1.0)\n",
      "Requirement already satisfied: certifi>=2017.4.17 in /usr/local/lib/python3.10/site-packages (from requests>=2.0.0->rcsb-api) (2023.11.17)\n",
      "Requirement already satisfied: numpy<3,>=1.16.0 in /usr/local/lib/python3.10/site-packages (from rustworkx->rcsb-api) (2.2.1)\n",
      "Note: you may need to restart the kernel to use updated packages.\n"
     ]
    }
   ],
   "source": [
    "# Use this coding cell to install necessary libraries if they are not already in your system or environment\n",
    "%pip install python-dateutil\n",
    "%pip install requests\n",
    "%pip install rcsb-api"
   ]
  },
  {
   "cell_type": "markdown",
   "id": "0edae8a4-a3bb-4f47-a506-9a68a5a7f910",
   "metadata": {},
   "source": [
    "## Notebook Contents\n",
    "\n",
    "Then coding cell below contains all of the raw code for this example. **Experienced coders** should use this as you see fit.\n",
    "\n",
    "For **novice coders**, the code is broken up into smaller chunks in the subsequent coding cells, with stepwise inputs and outputs to better explain how this code can be used."
   ]
  },
  {
   "cell_type": "code",
   "execution_count": null,
   "id": "eb7b9186-c308-41b8-a303-8f24775b526d",
   "metadata": {},
   "outputs": [
    {
     "name": "stderr",
     "output_type": "stream",
     "text": [
      "2025-01-07 14:36:02,876 [WARNING]-data_query.__init__: More than 200 input_ids. For a more readable response, reduce number of ids.\n",
      "2025-01-07 14:37:07,952 [WARNING]-data_query.__init__: More than 200 input_ids. For a more readable response, reduce number of ids.\n",
      "2025-01-07 14:38:12,759 [WARNING]-data_query.__init__: More than 200 input_ids. For a more readable response, reduce number of ids.\n",
      "2025-01-07 14:39:17,490 [WARNING]-data_query.__init__: More than 200 input_ids. For a more readable response, reduce number of ids.\n",
      "2025-01-07 14:40:22,768 [WARNING]-data_query.__init__: More than 200 input_ids. For a more readable response, reduce number of ids.\n",
      "2025-01-07 14:41:28,099 [WARNING]-data_query.__init__: More than 200 input_ids. For a more readable response, reduce number of ids.\n",
      "2025-01-07 14:42:33,863 [WARNING]-data_query.__init__: More than 200 input_ids. For a more readable response, reduce number of ids.\n",
      "2025-01-07 14:43:38,550 [WARNING]-data_query.__init__: More than 200 input_ids. For a more readable response, reduce number of ids.\n",
      "2025-01-07 14:44:43,659 [WARNING]-data_query.__init__: More than 200 input_ids. For a more readable response, reduce number of ids.\n",
      "2025-01-07 14:45:48,512 [WARNING]-data_query.__init__: More than 200 input_ids. For a more readable response, reduce number of ids.\n",
      "2025-01-07 14:46:53,728 [WARNING]-data_query.__init__: More than 200 input_ids. For a more readable response, reduce number of ids.\n",
      "2025-01-07 14:47:58,681 [WARNING]-data_query.__init__: More than 200 input_ids. For a more readable response, reduce number of ids.\n",
      "2025-01-07 14:49:03,540 [WARNING]-data_query.__init__: More than 200 input_ids. For a more readable response, reduce number of ids.\n",
      "2025-01-07 14:50:09,250 [WARNING]-data_query.__init__: More than 200 input_ids. For a more readable response, reduce number of ids.\n",
      "2025-01-07 14:51:13,812 [WARNING]-data_query.__init__: More than 200 input_ids. For a more readable response, reduce number of ids.\n",
      "2025-01-07 14:52:20,118 [WARNING]-data_query.__init__: More than 200 input_ids. For a more readable response, reduce number of ids.\n",
      "2025-01-07 14:53:25,149 [WARNING]-data_query.__init__: More than 200 input_ids. For a more readable response, reduce number of ids.\n",
      "2025-01-07 14:54:30,581 [WARNING]-data_query.__init__: More than 200 input_ids. For a more readable response, reduce number of ids.\n",
      "2025-01-07 14:55:35,725 [WARNING]-data_query.__init__: More than 200 input_ids. For a more readable response, reduce number of ids.\n",
      "2025-01-07 14:56:41,047 [WARNING]-data_query.__init__: More than 200 input_ids. For a more readable response, reduce number of ids.\n",
      "2025-01-07 14:57:46,074 [WARNING]-data_query.__init__: More than 200 input_ids. For a more readable response, reduce number of ids.\n",
      "2025-01-07 14:58:51,111 [WARNING]-data_query.__init__: More than 200 input_ids. For a more readable response, reduce number of ids.\n",
      "2025-01-07 14:59:56,106 [WARNING]-data_query.__init__: More than 200 input_ids. For a more readable response, reduce number of ids.\n"
     ]
    },
    {
     "name": "stdout",
     "output_type": "stream",
     "text": [
      "{'pdb_id': '100D', 'release_date': '1995-03-31T00:00:00Z'}\n"
     ]
    }
   ],
   "source": [
    "import requests\n",
    "from dateutil import parser\n",
    "from rcsbapi.data import DataQuery as Query\n",
    "\n",
    "# Step 1: Retrieve all PDB IDs from Data API\n",
    "url = 'https://data.rcsb.org/rest/v1/holdings/current/entry_ids'\n",
    "response = requests.get(url)\n",
    "ids = eval(response.text)\n",
    "\n",
    "# Step 2: Split full list of IDs into batches\n",
    "batchSize = 5_000\n",
    "idBatches = [ids[i:i+batchSize] for i in range(0, len(ids), batchSize)]\n",
    "\n",
    "#Step 3: Query release date\n",
    "release_dates = []\n",
    "for batch in idBatches:\n",
    "    query = Query(\n",
    "        input_type=\"entries\",\n",
    "        input_ids=batch,\n",
    "        return_data_list=[\"rcsb_accession_info.initial_release_date\"]\n",
    "    )\n",
    "    data = query.exec()\n",
    "    for d in data['data']['entries']:\n",
    "        entry_id = d['rcsb_id']\n",
    "        isodate = d[\"rcsb_accession_info\"][\"initial_release_date\"]\n",
    "        date = parser.parse(isodate).strftime('%Y-%m-%d')\n",
    "        release_dates.append({\n",
    "            \"pdb_id\": entry_id,\n",
    "            \"release_date\": date\n",
    "        })\n",
    "print(release_dates[0])"
   ]
  },
  {
   "cell_type": "markdown",
   "id": "99c39144-6d81-43e6-b6ca-c4bcf76dc2e1",
   "metadata": {},
   "source": [
    "## Importing Libraries\n",
    "\n",
    "The following simply imports the required libraries that contain the methods that are called in this notebook."
   ]
  },
  {
   "cell_type": "code",
   "execution_count": null,
   "id": "ccde6203",
   "metadata": {},
   "outputs": [],
   "source": [
    "import requests\n",
    "from dateutil import parser\n",
    "from rcsbapi.data import DataQuery as Query"
   ]
  },
  {
   "cell_type": "markdown",
   "id": "da9f910e-9b92-4fc0-823d-ad545b725056",
   "metadata": {},
   "source": [
    "## Step 1 \n",
    "\n",
    "The [Repository Holdings Service REST API](https://data.rcsb.org/redoc/index.html#tag/Repository-Holdings-Service) current entries endpoint provides a full list of current PDB IDs"
   ]
  },
  {
   "cell_type": "code",
   "execution_count": 19,
   "id": "490ee066-4eda-45d7-b7dc-554925c756ad",
   "metadata": {},
   "outputs": [
    {
     "name": "stdout",
     "output_type": "stream",
     "text": [
      "There are 229564 released structures in the PDB archive\n"
     ]
    }
   ],
   "source": [
    "# Step 1: Retrieve all PDB IDs from Data API\n",
    "\n",
    "url = 'https://data.rcsb.org/rest/v1/holdings/current/entry_ids'\n",
    "response = requests.get(url)\n",
    "ids = eval(response.text)\n",
    "\n",
    "print(f\"There are {len(ids)} released structures in the PDB archive\")"
   ]
  },
  {
   "cell_type": "markdown",
   "id": "ced9dcb5",
   "metadata": {},
   "source": [
    "## Step 2\n",
    "Requesting a large number of objects at a time is resource intensive and not recommended. Making requests in periodic batches, instead of a single request for a large number of objects, is more effective"
   ]
  },
  {
   "cell_type": "code",
   "execution_count": null,
   "id": "3ef4d858",
   "metadata": {},
   "outputs": [
    {
     "name": "stdout",
     "output_type": "stream",
     "text": [
      "Split IDs into 23 batches\n"
     ]
    }
   ],
   "source": [
    "batchSize = 10_000\n",
    "idBatches = [ids[i:i+batchSize] for i in range(0, len(ids), batchSize)]\n",
    "\n",
    "print(f\"Split IDs into {len(idBatches)} batches\")"
   ]
  },
  {
   "cell_type": "markdown",
   "id": "c1076ea3-8ba7-458a-8038-cebb407727a2",
   "metadata": {},
   "source": [
    "## Step 3\n",
    "\n",
    "In this step, we create a query object that points to the data API on the RCSB PDB website. This query extracts data about the initial release date for a given list of IDs. Example query below:"
   ]
  },
  {
   "cell_type": "code",
   "execution_count": 41,
   "id": "7fbbe1d9-bd7f-4cf4-b568-28f47dee91b9",
   "metadata": {},
   "outputs": [
    {
     "name": "stdout",
     "output_type": "stream",
     "text": [
      "{'rcsb_id': '4HHB', 'rcsb_accession_info': {'initial_release_date': '1984-07-17T00:00:00Z'}}\n"
     ]
    }
   ],
   "source": [
    "# Step 3: Run data API query to retrieve initial release date for the first ID\n",
    "query = Query(\n",
    "    input_type=\"entries\",\n",
    "    input_ids=[\"4HHB\"],\n",
    "    return_data_list=[\"rcsb_accession_info.initial_release_date\"]\n",
    ")\n",
    "data = query.exec()\n",
    "print(data['data']['entries'][0])"
   ]
  },
  {
   "cell_type": "markdown",
   "id": "0f74db77-1910-4377-ba13-aeac6914b6d8",
   "metadata": {},
   "source": [
    "## Step 4\n",
    "\n",
    "The final step is to produce the results we want to see and store for future use. "
   ]
  },
  {
   "cell_type": "code",
   "execution_count": null,
   "id": "6b1f822a-8636-4a06-8292-40f805ce979d",
   "metadata": {},
   "outputs": [
    {
     "name": "stderr",
     "output_type": "stream",
     "text": [
      "2025-01-07 14:25:45,836 [WARNING]-data_query.__init__: More than 200 input_ids. For a more readable response, reduce number of ids.\n",
      "2025-01-07 14:26:51,253 [WARNING]-data_query.__init__: More than 200 input_ids. For a more readable response, reduce number of ids.\n"
     ]
    },
    {
     "ename": "KeyboardInterrupt",
     "evalue": "",
     "output_type": "error",
     "traceback": [
      "\u001b[0;31m---------------------------------------------------------------------------\u001b[0m",
      "\u001b[0;31mKeyboardInterrupt\u001b[0m                         Traceback (most recent call last)",
      "Cell \u001b[0;32mIn[33], line 8\u001b[0m\n\u001b[1;32m      2\u001b[0m \u001b[38;5;28;01mfor\u001b[39;00m batch \u001b[38;5;129;01min\u001b[39;00m idBatches:\n\u001b[1;32m      3\u001b[0m     query \u001b[38;5;241m=\u001b[39m Query(\n\u001b[1;32m      4\u001b[0m         input_type\u001b[38;5;241m=\u001b[39m\u001b[38;5;124m\"\u001b[39m\u001b[38;5;124mentries\u001b[39m\u001b[38;5;124m\"\u001b[39m,\n\u001b[1;32m      5\u001b[0m         input_ids\u001b[38;5;241m=\u001b[39mbatch,\n\u001b[1;32m      6\u001b[0m         return_data_list\u001b[38;5;241m=\u001b[39m[\u001b[38;5;124m\"\u001b[39m\u001b[38;5;124mrcsb_accession_info.initial_release_date\u001b[39m\u001b[38;5;124m\"\u001b[39m]\n\u001b[1;32m      7\u001b[0m     )\n\u001b[0;32m----> 8\u001b[0m     data \u001b[38;5;241m=\u001b[39m \u001b[43mquery\u001b[49m\u001b[38;5;241;43m.\u001b[39;49m\u001b[43mexec\u001b[49m\u001b[43m(\u001b[49m\u001b[43m)\u001b[49m\n\u001b[1;32m      9\u001b[0m     \u001b[38;5;28;01mfor\u001b[39;00m d \u001b[38;5;129;01min\u001b[39;00m data[\u001b[38;5;124m'\u001b[39m\u001b[38;5;124mdata\u001b[39m\u001b[38;5;124m'\u001b[39m][\u001b[38;5;124m'\u001b[39m\u001b[38;5;124mentries\u001b[39m\u001b[38;5;124m'\u001b[39m]:\n\u001b[1;32m     10\u001b[0m         entry_id \u001b[38;5;241m=\u001b[39m d[\u001b[38;5;124m'\u001b[39m\u001b[38;5;124mrcsb_id\u001b[39m\u001b[38;5;124m'\u001b[39m]\n",
      "File \u001b[0;32m/usr/local/lib/python3.10/site-packages/rcsbapi/data/data_query.py:177\u001b[0m, in \u001b[0;36mDataQuery.exec\u001b[0;34m(self)\u001b[0m\n\u001b[1;32m    170\u001b[0m part_response \u001b[38;5;241m=\u001b[39m requests\u001b[38;5;241m.\u001b[39mpost(\n\u001b[1;32m    171\u001b[0m     headers\u001b[38;5;241m=\u001b[39m{\u001b[38;5;124m\"\u001b[39m\u001b[38;5;124mContent-Type\u001b[39m\u001b[38;5;124m\"\u001b[39m: \u001b[38;5;124m\"\u001b[39m\u001b[38;5;124mapplication/graphql\u001b[39m\u001b[38;5;124m\"\u001b[39m},\n\u001b[1;32m    172\u001b[0m     data\u001b[38;5;241m=\u001b[39mquery,\n\u001b[1;32m    173\u001b[0m     url\u001b[38;5;241m=\u001b[39mconst\u001b[38;5;241m.\u001b[39mDATA_API_ENDPOINT,\n\u001b[1;32m    174\u001b[0m     timeout\u001b[38;5;241m=\u001b[39mconfig\u001b[38;5;241m.\u001b[39mDATA_API_TIMEOUT\n\u001b[1;32m    175\u001b[0m )\u001b[38;5;241m.\u001b[39mjson()\n\u001b[1;32m    176\u001b[0m \u001b[38;5;28mself\u001b[39m\u001b[38;5;241m.\u001b[39m_parse_gql_error(part_response)\n\u001b[0;32m--> 177\u001b[0m \u001b[43mtime\u001b[49m\u001b[38;5;241;43m.\u001b[39;49m\u001b[43msleep\u001b[49m\u001b[43m(\u001b[49m\u001b[38;5;241;43m0.2\u001b[39;49m\u001b[43m)\u001b[49m\n\u001b[1;32m    178\u001b[0m \u001b[38;5;28;01mif\u001b[39;00m \u001b[38;5;129;01mnot\u001b[39;00m response_json:\n\u001b[1;32m    179\u001b[0m     response_json \u001b[38;5;241m=\u001b[39m part_response\n",
      "\u001b[0;31mKeyboardInterrupt\u001b[0m: "
     ]
    }
   ],
   "source": [
    "release_dates = []\n",
    "for batch in idBatches:\n",
    "    query = Query(\n",
    "        input_type=\"entries\",\n",
    "        input_ids=batch,\n",
    "        return_data_list=[\"rcsb_accession_info.initial_release_date\"]\n",
    "    )\n",
    "    data = query.exec()\n",
    "    for d in data['data']['entries']:\n",
    "        entry_id = d['rcsb_id']\n",
    "        isodate = d[\"rcsb_accession_info\"][\"initial_release_date\"]\n",
    "        date = parser.parse(isodate).strftime('%Y-%m-%d')\n",
    "        release_dates.append({\n",
    "            \"pdb_id\": entry_id,\n",
    "            \"release_date\": date\n",
    "        })\n",
    "print(release_dates[0])"
   ]
  },
  {
   "cell_type": "markdown",
   "metadata": {},
   "source": [
    "By modifying \"return_data_list\" parameter of the query object, any available data attributes can be queried for all currently released PDB entries. Available fields can be explored [here](https://data.rcsb.org/data-attributes.html) "
   ]
  }
 ],
 "metadata": {
  "kernelspec": {
   "display_name": "Python 3",
   "language": "python",
   "name": "python3"
  },
  "language_info": {
   "codemirror_mode": {
    "name": "ipython",
    "version": 3
   },
   "file_extension": ".py",
   "mimetype": "text/x-python",
   "name": "python",
   "nbconvert_exporter": "python",
   "pygments_lexer": "ipython3",
   "version": "3.10.15"
  }
 },
 "nbformat": 4,
 "nbformat_minor": 5
}
