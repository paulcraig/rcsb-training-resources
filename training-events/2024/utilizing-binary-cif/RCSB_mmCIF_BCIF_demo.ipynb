{
  "cells": [
    {
      "cell_type": "markdown",
      "metadata": {
        "id": "MEMavL9ggYBr"
      },
      "source": [
        "<a href=\"https://colab.research.google.com/github/rcsb/rcsb-training-resources/blob/master/training-events/2024/utilizing-binary-cif/RCSB_mmCIF_BCIF_demo.ipynb\" target=\"_parent\"><img src=\"https://colab.research.google.com/assets/colab-badge.svg\" alt=\"Open In Colab\"/></a>"
      ]
    },
    {
      "cell_type": "markdown",
      "metadata": {
        "id": "viHNe8Jq6-2S"
      },
      "source": [
        "# Demonstration of working with mmCIF and BCIF using RCSB PDB Python Packages"
      ]
    },
    {
      "cell_type": "markdown",
      "metadata": {
        "id": "XS0aX68D7xRC"
      },
      "source": [
        "## Set-up\n",
        "#### Install packages (and make sure to re-upgrade often!)"
      ]
    },
    {
      "cell_type": "code",
      "execution_count": null,
      "metadata": {
        "collapsed": true,
        "id": "KB3AYpUZ7wHF"
      },
      "outputs": [],
      "source": [
        "!pip install --upgrade mmcif\n",
        "!pip install --upgrade rcsb.utils.io\n",
        "# Make sure to keep packages up-to-date (re-upgrade often)!"
      ]
    },
    {
      "cell_type": "markdown",
      "metadata": {},
      "source": [
        "\n",
        "##### Package GitHub repositories:\n",
        "- https://github.com/rcsb/py-mmcif\n",
        "- https://github.com/rcsb/py-rcsb_utils_io (see README.md for additional details)"
      ]
    },
    {
      "cell_type": "markdown",
      "metadata": {
        "id": "jdVYHddo6-Hn"
      },
      "source": [
        "## 1. Reading an mmCIF or BCIF File"
      ]
    },
    {
      "cell_type": "code",
      "execution_count": 131,
      "metadata": {
        "id": "0DONIlkO60nT"
      },
      "outputs": [],
      "source": [
        "from rcsb.utils.io.MarshalUtil import MarshalUtil\n",
        "\n",
        "mU = MarshalUtil()\n",
        "\n",
        "# Reading mmCIF\n",
        "# Load from remote URL\n",
        "dataContainerList = mU.doImport(\"https://files.rcsb.org/download/4HHB.cif.gz\", fmt=\"mmcif\")\n",
        "\n",
        "# Or, load from a local file (either compressed or uncompressed)\n",
        "# dataContainerList = mU.doImport(\"local/path/to/file.cif\", fmt=\"mmcif\")"
      ]
    },
    {
      "cell_type": "code",
      "execution_count": 132,
      "metadata": {
        "id": "ElfQvIv-Axg5"
      },
      "outputs": [],
      "source": [
        "# Reading BCIF (note the URL change)\n",
        "dataContainerList = mU.doImport(\"https://models.rcsb.org/4HHB.bcif.gz\", fmt=\"bcif\")"
      ]
    },
    {
      "cell_type": "markdown",
      "metadata": {
        "id": "n8Sw7jA0ByIw"
      },
      "source": [
        "## 2. Accessing Data Categories\n",
        "\n",
        "Once the data is loaded, you can access and inspect the data categories:"
      ]
    },
    {
      "cell_type": "code",
      "execution_count": null,
      "metadata": {
        "id": "6qGySC4yB5kS"
      },
      "outputs": [],
      "source": [
        "# Get the first data container (usually there's only one per file)\n",
        "dataContainer = dataContainerList[0]\n",
        "\n",
        "# Print the container name\n",
        "containerName = dataContainer.getName()\n",
        "print(f\"Container Name: {containerName}\")"
      ]
    },
    {
      "cell_type": "code",
      "execution_count": null,
      "metadata": {
        "id": "2f4upiCabOZd"
      },
      "outputs": [],
      "source": [
        "# Get the list of categories\n",
        "categoryNames = dataContainer.getObjNameList()\n",
        "print(\"Categories:\", categoryNames)"
      ]
    },
    {
      "cell_type": "code",
      "execution_count": null,
      "metadata": {
        "colab": {
          "base_uri": "https://localhost:8080/"
        },
        "id": "a1Y4gkwmDIeh",
        "outputId": "b0d24413-e491-4da9-8b67-4a7ac669bbfe"
      },
      "outputs": [],
      "source": [
        "# Access a specific category and its attributes\n",
        "j = 0  # print the first 5 rows\n",
        "if dataContainer.exists(\"atom_site\"):\n",
        "    atomSiteObj = dataContainer.getObj(\"atom_site\")\n",
        "    for i in range(atomSiteObj.getRowCount()):\n",
        "        rowData = atomSiteObj.getRowAttributeDict(i)\n",
        "        print(rowData)\n",
        "        j += 1\n",
        "        if j > 5:\n",
        "            break"
      ]
    },
    {
      "cell_type": "code",
      "execution_count": null,
      "metadata": {
        "collapsed": true,
        "id": "XubDaXmcYuX1"
      },
      "outputs": [],
      "source": [
        "# Creating a dictionary from a DataContainer\n",
        "dcD = {}\n",
        "\n",
        "for dataContainer in dataContainerList:\n",
        "    eName = dataContainer.getName()\n",
        "    for catName in categoryNames:\n",
        "        if not dataContainer.exists(catName):\n",
        "            continue\n",
        "        dObj = dataContainer.getObj(catName)\n",
        "        for ii in range(dObj.getRowCount()):\n",
        "            dD = dObj.getRowAttributeDict(ii)\n",
        "            dcD.setdefault(eName, {}).setdefault(catName, []).append(dD)\n",
        "\n",
        "# Print the first 5 data items\n",
        "count = 0\n",
        "for k, v in dcD.items():\n",
        "    print(k)\n",
        "    for k2, v2 in v.items():\n",
        "        print(k2, v2)\n",
        "        count += 1\n",
        "        if count == 5:\n",
        "            break"
      ]
    },
    {
      "cell_type": "code",
      "execution_count": null,
      "metadata": {
        "id": "HrVqxKOqZSdv"
      },
      "outputs": [],
      "source": [
        "# FYI — You can also export (and import) JSON and pickle data.\n",
        "# (Works for any type of json or dictionary--doesn't need to be CIF-related!)\n",
        "\n",
        "# Export as JSON\n",
        "mU.doExport(\"4HHB.json\", dcD, fmt=\"json\")\n",
        "\n",
        "# Export as Pickle file\n",
        "mU.doExport(\"4HHB.pic\", dcD, fmt=\"pickle\")"
      ]
    },
    {
      "cell_type": "markdown",
      "metadata": {
        "id": "yLA-nTu9D3a0"
      },
      "source": [
        "## 3. Manipulating, Deleting, and Adding Categories"
      ]
    },
    {
      "cell_type": "code",
      "execution_count": 138,
      "metadata": {},
      "outputs": [],
      "source": [
        "# First, let's create a copy of the dataContainerList to work with\n",
        "from copy import deepcopy\n",
        "dataContainerListCopy = deepcopy(dataContainerList)\n",
        "dc = dataContainerListCopy[0]"
      ]
    },
    {
      "cell_type": "code",
      "execution_count": null,
      "metadata": {
        "id": "dU7gNYBRbyQK"
      },
      "outputs": [],
      "source": [
        "### Renaming a category\n",
        "# For example, to rename \"citation\" to \"citation_reference\"\n",
        "dc.rename(\"citation\", \"citation_reference\")"
      ]
    },
    {
      "cell_type": "code",
      "execution_count": 140,
      "metadata": {
        "id": "Yiuqg4pfE1F3"
      },
      "outputs": [],
      "source": [
        "### Delete a Category\n",
        "# For example, to delete all EM-related categories:\n",
        "for catName in categoryNames:\n",
        "    if catName.startswith(\"em\"):\n",
        "        dc.remove(catName)"
      ]
    },
    {
      "cell_type": "code",
      "execution_count": 141,
      "metadata": {
        "id": "psVPTQ9HD-En"
      },
      "outputs": [],
      "source": [
        "### Add a New Category\n",
        "# To add a new category to the data container:\n",
        "from mmcif.api.DataCategory import DataCategory\n",
        "\n",
        "# Create a new category object\n",
        "newCategory = DataCategory(\"new_category\", attributeNameList=[\"ordinal\", \"attribute1\", \"attribute2\"])\n",
        "\n",
        "# Add data to the category\n",
        "newCategory.append([1, \"a\", \"b\"])\n",
        "newCategory.append([2, \"c\", \"d\"])\n",
        "newCategory.append([3, \"e\", \"f\"])\n",
        "newCategory.append([4, \"g\", \"h\"])\n",
        "\n",
        "# Add the new category to the data container\n",
        "dc.append(newCategory)"
      ]
    },
    {
      "cell_type": "code",
      "execution_count": null,
      "metadata": {},
      "outputs": [],
      "source": [
        "# Now verify the changes above took effect (check for \"citation_reference\", \"new_category\", and no \"em_*\" categories)\n",
        "categoryNames = dc.getObjNameList()\n",
        "print(\"Categories:\", categoryNames)"
      ]
    },
    {
      "cell_type": "code",
      "execution_count": null,
      "metadata": {},
      "outputs": [],
      "source": [
        "# You can also export it to check (more on this below)\n",
        "mU.doExport(\"4HHB_modified.cif\", dataContainerListCopy, fmt=\"mmcif\")"
      ]
    },
    {
      "cell_type": "code",
      "execution_count": null,
      "metadata": {
        "id": "A1mHj_dyd249"
      },
      "outputs": [],
      "source": [
        "### All available Data Container methods:\n",
        "\n",
        "# In Python interpreter, type `dc.` then hit your tab key to see all possible methods:\n",
        "\n",
        "# >>> dc.\n",
        "# dc.append(                 dc.getGlobal()             dc.getObjNameList()        dc.invokeDataBlockMethod(  dc.rename(                 dc.setProp(\n",
        "# dc.copy(                   dc.getName()               dc.getProp(                dc.merge(                  dc.replace(                dc.setType(\n",
        "# dc.exists(                 dc.getObj(                 dc.getPropCatalog()        dc.printIt(                dc.setGlobal()             dc.toJSON()\n",
        "# dc.filterObjectNameList(   dc.getObjCatalog()         dc.getType()               dc.remove(                 dc.setName(\n",
        "\n",
        "# Type `help(method_name)`` to get info about method, e.g.:\n",
        "help(dc.remove)\n"
      ]
    },
    {
      "cell_type": "markdown",
      "metadata": {
        "id": "imAwDkLmE8YR"
      },
      "source": [
        "## 4. Exporting Data"
      ]
    },
    {
      "cell_type": "code",
      "execution_count": null,
      "metadata": {
        "id": "QBs94GIgE_rf"
      },
      "outputs": [],
      "source": [
        "### Export as mmCIF - One simple step\n",
        "mU.doExport(\"4HHB_new.cif\", dataContainerList, fmt=\"mmcif\")"
      ]
    },
    {
      "cell_type": "code",
      "execution_count": 146,
      "metadata": {
        "id": "-Z-QllvdFM3z"
      },
      "outputs": [],
      "source": [
        "### Export as BCIF - A couple extra steps.\n",
        "\n",
        "# First, create a DictionaryApi provider (only need to do once)\n",
        "from mmcif.api.DictionaryApi import DictionaryApi\n",
        "from mmcif.io.IoAdapterPy import IoAdapterPy as IoAdapter\n",
        "\n",
        "# Include common PDBx/mmCIF dictionary and CSM extension (ModelCIF) dictionary\n",
        "dictFilePathL = [\n",
        "    \"https://raw.githubusercontent.com/wwpdb-dictionaries/mmcif_pdbx/master/dist/mmcif_pdbx_v5_next.dic\",\n",
        "    \"https://raw.githubusercontent.com/ihmwg/ModelCIF/master/dist/mmcif_ma_ext.dic\",\n",
        "]\n",
        "myIo = IoAdapter(raiseExceptions=True)\n",
        "dApiContainerList = []\n",
        "for dictFilePath in dictFilePathL:\n",
        "    dApiContainerList += myIo.readFile(inputFilePath=dictFilePath)\n",
        "dictionaryApi = DictionaryApi(containerList=dApiContainerList, consolidate=True)"
      ]
    },
    {
      "cell_type": "code",
      "execution_count": null,
      "metadata": {},
      "outputs": [],
      "source": [
        "# After doing the above, you can export as many BCIFs as you wish:\n",
        "mU.doExport(\"4HHB_new.bcif\", dataContainerList, fmt=\"bcif\", dictionaryApi=dictionaryApi)\n",
        "mU.doExport(\"4HHB_new2.bcif\", dataContainerList, fmt=\"bcif\", dictionaryApi=dictionaryApi)\n",
        "mU.doExport(\"4HHB_new3.bcif\", dataContainerList, fmt=\"bcif\", dictionaryApi=dictionaryApi)"
      ]
    },
    {
      "cell_type": "code",
      "execution_count": null,
      "metadata": {
        "id": "WXWuOnO_Ly1a"
      },
      "outputs": [],
      "source": [
        "### Compress the file with Gzip\n",
        "from rcsb.utils.io.FileUtil import FileUtil\n",
        "fU = FileUtil(workPath=\".\")\n",
        "\n",
        "# Compress the file\n",
        "fU.compress(\"4HHB_new.bcif\", \"4HHB_new.bcif.gz\")\n",
        "\n",
        "# Remove the uncompressed file\n",
        "mU.remove(\"4HHB_new.bcif\")"
      ]
    },
    {
      "cell_type": "markdown",
      "metadata": {},
      "source": [
        "##### ***Note** that further improvements to the above method for exporting data as BCIF will continue to be developed, so stay tuned for software updates that simplify this process even more (such as circumventing DictionaryApi creation and automatic GZIP compression).\n",
        "\n",
        "##### Follow along GitHub repos for updates:\n",
        "- https://github.com/rcsb/py-mmcif\n",
        "- https://github.com/rcsb/py-rcsb_utils_io"
      ]
    },
    {
      "cell_type": "markdown",
      "metadata": {
        "id": "ihkmWe-SVeJi"
      },
      "source": [
        "## 5. Working with computed structure models (CSMs)"
      ]
    },
    {
      "cell_type": "code",
      "execution_count": 149,
      "metadata": {
        "id": "3f3xwABhVYVq"
      },
      "outputs": [],
      "source": [
        "# Read in a CSM (from AlphaFold DB)\n",
        "dataContainerList = mU.doImport(\"https://alphafold.ebi.ac.uk/files/AF-P24854-F1-model_v4.cif\", fmt=\"mmcif\")"
      ]
    },
    {
      "cell_type": "code",
      "execution_count": null,
      "metadata": {
        "id": "UF1UqsCgL7rT"
      },
      "outputs": [],
      "source": [
        "# Export as BCIF (by specifying the same dictionaryApi object created above)\n",
        "mU.doExport(\"AF-P24854-F1.bcif\", dataContainerList, fmt=\"bcif\", dictionaryApi=dictionaryApi)"
      ]
    }
  ],
  "metadata": {
    "colab": {
      "provenance": []
    },
    "kernelspec": {
      "display_name": "Python 3",
      "name": "python3"
    },
    "language_info": {
      "codemirror_mode": {
        "name": "ipython",
        "version": 3
      },
      "file_extension": ".py",
      "mimetype": "text/x-python",
      "name": "python",
      "nbconvert_exporter": "python",
      "pygments_lexer": "ipython3",
      "version": "3.10.1"
    }
  },
  "nbformat": 4,
  "nbformat_minor": 0
}
