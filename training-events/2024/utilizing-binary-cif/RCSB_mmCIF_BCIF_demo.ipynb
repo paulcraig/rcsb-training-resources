{
  "cells": [
    {
      "cell_type": "markdown",
      "metadata": {
        "id": "MEMavL9ggYBr"
      },
      "source": [
        "<a href=\"https://colab.research.google.com/github/rcsb/rcsb-training-resources/blob/master/training-events/2024/utilizing-binary-cif/RCSB_mmCIF_BCIF_demo.ipynb\" target=\"_parent\"><img src=\"https://colab.research.google.com/assets/colab-badge.svg\" alt=\"Open In Colab\"/></a>"
      ]
    },
    {
      "cell_type": "markdown",
      "metadata": {
        "id": "viHNe8Jq6-2S"
      },
      "source": [
        "# Demonstration of working with mmCIF and BCIF using RCSB PDB Python Packages"
      ]
    },
    {
      "cell_type": "markdown",
      "metadata": {
        "id": "XS0aX68D7xRC"
      },
      "source": [
        "## Set-up\n",
        "Install packages (and make sure to keep re-upgrade often!)"
      ]
    },
    {
      "cell_type": "code",
      "execution_count": null,
      "metadata": {
        "collapsed": true,
        "id": "KB3AYpUZ7wHF"
      },
      "outputs": [],
      "source": [
        "!pip install --upgrade rcsb.utils.io\n",
        "!pip install --upgrade mmcif\n",
        "\n",
        "# Make sure to keep packages up-to-date (re-upgrade often)!!!\n"
      ]
    },
    {
      "cell_type": "markdown",
      "metadata": {
        "id": "jdVYHddo6-Hn"
      },
      "source": [
        "## 1. Reading an mmCIF or BCIF File"
      ]
    },
    {
      "cell_type": "code",
      "execution_count": null,
      "metadata": {
        "id": "0DONIlkO60nT"
      },
      "outputs": [],
      "source": [
        "from rcsb.utils.io.MarshalUtil import MarshalUtil\n",
        "\n",
        "mU = MarshalUtil()\n",
        "\n",
        "# Reading mmCIF\n",
        "# Load from remote URL\n",
        "dataContainerList = mU.doImport(\"https://files.rcsb.org/download/4HHB.cif.gz\", fmt=\"mmcif\")\n",
        "\n",
        "# Or, load from a local file (either compressed or uncompressed)\n",
        "# dataContainerList = mU.doImport(\"local/path/to/file.cif\", fmt=\"mmcif\")"
      ]
    },
    {
      "cell_type": "code",
      "execution_count": null,
      "metadata": {
        "id": "ElfQvIv-Axg5"
      },
      "outputs": [],
      "source": [
        "# Reading BCIF (note the URL change)\n",
        "dataContainerList = mU.doImport(\"https://models.rcsb.org/4HHB.bcif.gz\", fmt=\"bcif\")\n"
      ]
    },
    {
      "cell_type": "markdown",
      "metadata": {
        "id": "n8Sw7jA0ByIw"
      },
      "source": [
        "## 2. Accessing Data Categories\n",
        "\n",
        "Once the data is loaded, you can access and inspect the data categories:"
      ]
    },
    {
      "cell_type": "code",
      "execution_count": null,
      "metadata": {
        "id": "6qGySC4yB5kS"
      },
      "outputs": [],
      "source": [
        "# Get the first data container (usually there's only one per file)\n",
        "dataContainer = dataContainerList[0]\n",
        "\n",
        "# Print the container name\n",
        "containerName = dataContainer.getName()\n",
        "print(f\"Container Name: {containerName}\")"
      ]
    },
    {
      "cell_type": "code",
      "execution_count": null,
      "metadata": {
        "id": "2f4upiCabOZd"
      },
      "outputs": [],
      "source": [
        "# Get the list of categories\n",
        "categoryNames = dataContainer.getObjNameList()\n",
        "print(\"Categories:\", categoryNames)"
      ]
    },
    {
      "cell_type": "code",
      "execution_count": null,
      "metadata": {
        "colab": {
          "base_uri": "https://localhost:8080/"
        },
        "id": "a1Y4gkwmDIeh",
        "outputId": "b0d24413-e491-4da9-8b67-4a7ac669bbfe"
      },
      "outputs": [],
      "source": [
        "# Access a specific category and its attributes\n",
        "j = 0  # print the first 5 rows\n",
        "if dataContainer.exists(\"atom_site\"):\n",
        "    atomSiteObj = dataContainer.getObj(\"atom_site\")\n",
        "    for i in range(atomSiteObj.getRowCount()):\n",
        "        rowData = atomSiteObj.getRowAttributeDict(i)\n",
        "        print(rowData)\n",
        "        j += 1\n",
        "        if j > 5:\n",
        "            break"
      ]
    },
    {
      "cell_type": "code",
      "execution_count": null,
      "metadata": {
        "collapsed": true,
        "id": "XubDaXmcYuX1"
      },
      "outputs": [],
      "source": [
        "# Creating a dictionary from a DataContainer\n",
        "dcD = {}\n",
        "\n",
        "for dataContainer in dataContainerList:\n",
        "    eName = dataContainer.getName()\n",
        "    for catName in categoryNames:\n",
        "        if not dataContainer.exists(catName):\n",
        "            continue\n",
        "        dObj = dataContainer.getObj(catName)\n",
        "        for ii in range(dObj.getRowCount()):\n",
        "            dD = dObj.getRowAttributeDict(ii)\n",
        "            dcD.setdefault(eName, {}).setdefault(catName, []).append(dD)\n",
        "\n",
        "print(dcD)"
      ]
    },
    {
      "cell_type": "code",
      "execution_count": null,
      "metadata": {
        "id": "HrVqxKOqZSdv"
      },
      "outputs": [],
      "source": [
        "# FYI—You can also export and import JSON and pickle data:\n",
        "# Works for any type of json or dictionary—doesn't need to be CIF-related!\n",
        "mU.doExport(\"4HHB.json\", dcD, fmt=\"json\")\n",
        "mU.doExport(\"4HHB.pic\", dcD, fmt=\"pickle\")"
      ]
    },
    {
      "cell_type": "markdown",
      "metadata": {
        "id": "yLA-nTu9D3a0"
      },
      "source": [
        "## 3. Manipulating, Deleting, and Adding Categories"
      ]
    },
    {
      "cell_type": "code",
      "execution_count": null,
      "metadata": {
        "id": "dU7gNYBRbyQK"
      },
      "outputs": [],
      "source": [
        "### Renaming a category\n",
        "# For example, to rename \"citation\" to \"citation_reference\"\n",
        "dataContainer.rename(\"citation\", \"citation_reference\")"
      ]
    },
    {
      "cell_type": "code",
      "execution_count": null,
      "metadata": {
        "id": "Yiuqg4pfE1F3"
      },
      "outputs": [],
      "source": [
        "### Delete a Category\n",
        "# For example, to delete all EM-related categories:\n",
        "for catName in categoryNames:\n",
        "    if catName.startswith(\"em\"):\n",
        "        dataContainer.remove(catName)"
      ]
    },
    {
      "cell_type": "code",
      "execution_count": null,
      "metadata": {
        "id": "psVPTQ9HD-En"
      },
      "outputs": [],
      "source": [
        "### Add a New Category\n",
        "# To add a new category to the data container:\n",
        "from mmcif.api.DataCategory import DataCategory\n",
        "\n",
        "# Create a new category object\n",
        "newCategory = DataCategory(\"new_category\", attributeNameList=[\"ordinal\", \"attribute1\", \"attribute2\"])\n",
        "\n",
        "# Add data to the category\n",
        "newCategory.append([1, \"a\", \"b\"])\n",
        "newCategory.append([2, \"c\", \"d\"])\n",
        "newCategory.append([3, \"e\", \"f\"])\n",
        "newCategory.append([4, \"g\", \"h\"])\n",
        "\n",
        "# Add the new category to the data container\n",
        "dataContainer.append(newCategory)\n",
        "\n",
        "# Now verify it is present\n",
        "categoryNames = dataContainer.getObjNameList()\n",
        "print(\"Categories:\", categoryNames)"
      ]
    },
    {
      "cell_type": "code",
      "execution_count": null,
      "metadata": {
        "id": "A1mHj_dyd249"
      },
      "outputs": [],
      "source": [
        "### All available Data Container methods:\n",
        "\n",
        "dc = dataContainerList[0]\n",
        "# >>> dc.\n",
        "# dc.append(                 dc.getGlobal()             dc.getObjNameList()        dc.invokeDataBlockMethod(  dc.rename(                 dc.setProp(\n",
        "# dc.copy(                   dc.getName()               dc.getProp(                dc.merge(                  dc.replace(                dc.setType(\n",
        "# dc.exists(                 dc.getObj(                 dc.getPropCatalog()        dc.printIt(                dc.setGlobal()             dc.toJSON()\n",
        "# dc.filterObjectNameList(   dc.getObjCatalog()         dc.getType()               dc.remove(                 dc.setName(\n",
        "\n",
        "help(dc.remove)\n"
      ]
    },
    {
      "cell_type": "markdown",
      "metadata": {
        "id": "imAwDkLmE8YR"
      },
      "source": [
        "## 4. Exporting Data"
      ]
    },
    {
      "cell_type": "code",
      "execution_count": null,
      "metadata": {
        "id": "QBs94GIgE_rf"
      },
      "outputs": [],
      "source": [
        "### Export as mmCIF\n",
        "mU.doExport(\"4HHB_new.cif\", dataContainerList, fmt=\"mmcif\")"
      ]
    },
    {
      "cell_type": "code",
      "execution_count": null,
      "metadata": {
        "id": "-Z-QllvdFM3z"
      },
      "outputs": [],
      "source": [
        "### Export as BCIF\n",
        "mU.doExport(\"4HHB_new.bcif\", dataContainerList, fmt=\"bcif\")"
      ]
    },
    {
      "cell_type": "code",
      "execution_count": null,
      "metadata": {
        "id": "EgyVinAuMHiL"
      },
      "outputs": [],
      "source": [
        "# Export as a BCIF file (with gzip compression - note that this will create a temporary file as well):\n",
        "mU.doExport(\"4HHB_new_2.bcif.gz\", dataContainerList, fmt=\"bcif\")"
      ]
    },
    {
      "cell_type": "code",
      "execution_count": null,
      "metadata": {
        "id": "WXWuOnO_Ly1a"
      },
      "outputs": [],
      "source": [
        "### Compress the file with Gzip\n",
        "# To export the data in a compressed (gzipped) format:\n",
        "from rcsb.utils.io.FileUtil import FileUtil\n",
        "fU = FileUtil(workPath=\".\")\n",
        "fU.compress(\"4HHB_new.bcif\", \"4HHB_new.bcif.gz\")"
      ]
    },
    {
      "cell_type": "code",
      "execution_count": null,
      "metadata": {
        "id": "oAJLEfJ_6bub"
      },
      "outputs": [],
      "source": [
        "# Remove the uncompressed file\n",
        "mU.remove(\"4HHB_new.bcif\")"
      ]
    },
    {
      "cell_type": "markdown",
      "metadata": {
        "id": "ihkmWe-SVeJi"
      },
      "source": [
        "## 5. Working with computed structure models (CSMs)"
      ]
    },
    {
      "cell_type": "code",
      "execution_count": null,
      "metadata": {
        "id": "3f3xwABhVYVq"
      },
      "outputs": [],
      "source": [
        "# Read in a CSM (from AlphaFold DB)\n",
        "dataContainerList = mU.doImport(\"https://alphafold.ebi.ac.uk/files/AF-P24854-F1-model_v4.cif\", fmt=\"mmcif\")"
      ]
    },
    {
      "cell_type": "code",
      "execution_count": null,
      "metadata": {
        "id": "HEhSz-uBWMqi"
      },
      "outputs": [],
      "source": [
        "# Export as BCIF (using default PDBx/mmCIF dictionaries)\n",
        "mU.doExport(\"4HHB_new.bcif\", dataContainerList, fmt=\"bcif\")"
      ]
    },
    {
      "cell_type": "code",
      "execution_count": null,
      "metadata": {
        "id": "UF1UqsCgL7rT"
      },
      "outputs": [],
      "source": [
        "# Export as BCIF by specifying additional dictionaries\n",
        "mU.doExport(\n",
        "    \"AF-P24854-F1.bcif\",\n",
        "    dataContainerList,\n",
        "    fmt=\"bcif\",\n",
        "    dictFilePathL=[\n",
        "        \"https://raw.githubusercontent.com/wwpdb-dictionaries/mmcif_pdbx/master/dist/mmcif_pdbx_v5_next.dic\",\n",
        "        \"https://raw.githubusercontent.com/ihmwg/ModelCIF/master/dist/mmcif_ma_ext.dic\",\n",
        "    ]\n",
        ")"
      ]
    }
  ],
  "metadata": {
    "colab": {
      "provenance": []
    },
    "kernelspec": {
      "display_name": "Python 3",
      "name": "python3"
    },
    "language_info": {
      "name": "python"
    }
  },
  "nbformat": 4,
  "nbformat_minor": 0
}
