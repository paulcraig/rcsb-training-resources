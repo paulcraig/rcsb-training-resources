{
  "nbformat": 4,
  "nbformat_minor": 0,
  "metadata": {
    "colab": {
      "provenance": []
    },
    "kernelspec": {
      "name": "python3",
      "display_name": "Python 3"
    },
    "language_info": {
      "name": "python"
    }
  },
  "cells": [
    {
      "cell_type": "markdown",
      "source": [
        "<a href=\"https://colab.research.google.com/github/rcsb/rcsb-training-resources/blob/master/training-events/2024/utilizing-binary-cif/RCSB_mmCIF_BCIF_demo.ipynb\" target=\"_parent\"><img src=\"https://colab.research.google.com/assets/colab-badge.svg\" alt=\"Open In Colab\"/></a>"
      ],
      "metadata": {
        "id": "MEMavL9ggYBr"
      }
    },
    {
      "cell_type": "markdown",
      "source": [
        "# Demonstration of working with mmCIF and BCIF using RCSB PDB Python Packages"
      ],
      "metadata": {
        "id": "viHNe8Jq6-2S"
      }
    },
    {
      "cell_type": "markdown",
      "source": [
        "## Set-up\n",
        "Install packages (and make sure to keep re-upgrade often!)"
      ],
      "metadata": {
        "id": "XS0aX68D7xRC"
      }
    },
    {
      "cell_type": "code",
      "source": [
        "!pip install --upgrade rcsb.utils.io\n",
        "!pip install --upgrade mmcif\n",
        "\n",
        "# Make sure to keep packages up-to-date (re-upgrade often)!!!\n"
      ],
      "metadata": {
        "collapsed": true,
        "id": "KB3AYpUZ7wHF"
      },
      "execution_count": null,
      "outputs": []
    },
    {
      "cell_type": "markdown",
      "source": [
        "## 1. Reading an mmCIF or BCIF File"
      ],
      "metadata": {
        "id": "jdVYHddo6-Hn"
      }
    },
    {
      "cell_type": "code",
      "execution_count": null,
      "metadata": {
        "id": "0DONIlkO60nT"
      },
      "outputs": [],
      "source": [
        "from rcsb.utils.io.MarshalUtil import MarshalUtil\n",
        "\n",
        "mU = MarshalUtil()\n",
        "\n",
        "# Reading mmCIF\n",
        "# Load from remote URL\n",
        "dataContainerList = mU.doImport(\"https://files.rcsb.org/download/4HHB.cif.gz\", fmt=\"mmcif\")\n",
        "\n",
        "# Or, load from a local file (either compressed or uncompressed)\n",
        "# dataContainerList = mU.doImport(\"local/path/to/file.cif\", fmt=\"mmcif\")"
      ]
    },
    {
      "cell_type": "code",
      "source": [
        "# Reading BCIF (note the URL change)\n",
        "dataContainerList = mU.doImport(\"https://models.rcsb.org/4HHB.bcif.gz\", fmt=\"bcif\")\n"
      ],
      "metadata": {
        "id": "ElfQvIv-Axg5"
      },
      "execution_count": null,
      "outputs": []
    },
    {
      "cell_type": "markdown",
      "source": [
        "## 2. Accessing Data Categories\n",
        "\n",
        "Once the data is loaded, you can access and inspect the data categories:"
      ],
      "metadata": {
        "id": "n8Sw7jA0ByIw"
      }
    },
    {
      "cell_type": "code",
      "source": [
        "# Get the first data container (usually there's only one per file)\n",
        "dataContainer = dataContainerList[0]\n",
        "\n",
        "# Print the container name\n",
        "containerName = dataContainer.getName()\n",
        "print(f\"Container Name: {containerName}\")"
      ],
      "metadata": {
        "id": "6qGySC4yB5kS"
      },
      "execution_count": null,
      "outputs": []
    },
    {
      "cell_type": "code",
      "source": [
        "# Get the list of categories\n",
        "categoryNames = dataContainer.getObjNameList()\n",
        "print(\"Categories:\", categoryNames)"
      ],
      "metadata": {
        "id": "2f4upiCabOZd"
      },
      "execution_count": null,
      "outputs": []
    },
    {
      "cell_type": "code",
      "source": [
        "# Access a specific category and its attributes\n",
        "j = 0  # print the first 5 rows\n",
        "if dataContainer.exists(\"atom_site\"):\n",
        "    atomSiteObj = dataContainer.getObj(\"atom_site\")\n",
        "    for i in range(atomSiteObj.getRowCount()):\n",
        "        rowData = atomSiteObj.getRowAttributeDict(i)\n",
        "        print(rowData)\n",
        "        j += 1\n",
        "        if j > 5:\n",
        "            break"
      ],
      "metadata": {
        "colab": {
          "base_uri": "https://localhost:8080/"
        },
        "id": "a1Y4gkwmDIeh",
        "outputId": "b0d24413-e491-4da9-8b67-4a7ac669bbfe"
      },
      "execution_count": null,
      "outputs": [
        {
          "output_type": "stream",
          "name": "stdout",
          "text": [
            "{'group_PDB': 'ATOM', 'id': 1, 'type_symbol': 'N', 'label_atom_id': 'N', 'label_alt_id': '.', 'label_comp_id': 'GLU', 'label_asym_id': 'A', 'label_entity_id': 1, 'label_seq_id': 1, 'pdbx_PDB_ins_code': '?', 'Cartn_x': 112.9, 'Cartn_y': 179.139, 'Cartn_z': 150.287, 'occupancy': 1.0, 'B_iso_or_equiv': 198.91, 'pdbx_formal_charge': '?', 'auth_seq_id': 27, 'auth_comp_id': 'GLU', 'auth_asym_id': 'A', 'auth_atom_id': 'N', 'pdbx_PDB_model_num': 1}\n",
            "{'group_PDB': 'ATOM', 'id': 2, 'type_symbol': 'C', 'label_atom_id': 'CA', 'label_alt_id': '.', 'label_comp_id': 'GLU', 'label_asym_id': 'A', 'label_entity_id': 1, 'label_seq_id': 1, 'pdbx_PDB_ins_code': '?', 'Cartn_x': 112.826, 'Cartn_y': 178.624, 'Cartn_z': 151.648, 'occupancy': 1.0, 'B_iso_or_equiv': 198.91, 'pdbx_formal_charge': '?', 'auth_seq_id': 27, 'auth_comp_id': 'GLU', 'auth_asym_id': 'A', 'auth_atom_id': 'CA', 'pdbx_PDB_model_num': 1}\n",
            "{'group_PDB': 'ATOM', 'id': 3, 'type_symbol': 'C', 'label_atom_id': 'C', 'label_alt_id': '.', 'label_comp_id': 'GLU', 'label_asym_id': 'A', 'label_entity_id': 1, 'label_seq_id': 1, 'pdbx_PDB_ins_code': '?', 'Cartn_x': 113.8, 'Cartn_y': 179.355, 'Cartn_z': 152.563, 'occupancy': 1.0, 'B_iso_or_equiv': 198.91, 'pdbx_formal_charge': '?', 'auth_seq_id': 27, 'auth_comp_id': 'GLU', 'auth_asym_id': 'A', 'auth_atom_id': 'C', 'pdbx_PDB_model_num': 1}\n",
            "{'group_PDB': 'ATOM', 'id': 4, 'type_symbol': 'O', 'label_atom_id': 'O', 'label_alt_id': '.', 'label_comp_id': 'GLU', 'label_asym_id': 'A', 'label_entity_id': 1, 'label_seq_id': 1, 'pdbx_PDB_ins_code': '?', 'Cartn_x': 115.0, 'Cartn_y': 179.081, 'Cartn_z': 152.543, 'occupancy': 1.0, 'B_iso_or_equiv': 198.91, 'pdbx_formal_charge': '?', 'auth_seq_id': 27, 'auth_comp_id': 'GLU', 'auth_asym_id': 'A', 'auth_atom_id': 'O', 'pdbx_PDB_model_num': 1}\n",
            "{'group_PDB': 'ATOM', 'id': 5, 'type_symbol': 'C', 'label_atom_id': 'CB', 'label_alt_id': '.', 'label_comp_id': 'GLU', 'label_asym_id': 'A', 'label_entity_id': 1, 'label_seq_id': 1, 'pdbx_PDB_ins_code': '?', 'Cartn_x': 113.109, 'Cartn_y': 177.12, 'Cartn_z': 151.67, 'occupancy': 1.0, 'B_iso_or_equiv': 198.91, 'pdbx_formal_charge': '?', 'auth_seq_id': 27, 'auth_comp_id': 'GLU', 'auth_asym_id': 'A', 'auth_atom_id': 'CB', 'pdbx_PDB_model_num': 1}\n",
            "{'group_PDB': 'ATOM', 'id': 6, 'type_symbol': 'C', 'label_atom_id': 'CG', 'label_alt_id': '.', 'label_comp_id': 'GLU', 'label_asym_id': 'A', 'label_entity_id': 1, 'label_seq_id': 1, 'pdbx_PDB_ins_code': '?', 'Cartn_x': 111.943, 'Cartn_y': 176.259, 'Cartn_z': 151.204, 'occupancy': 1.0, 'B_iso_or_equiv': 198.91, 'pdbx_formal_charge': '?', 'auth_seq_id': 27, 'auth_comp_id': 'GLU', 'auth_asym_id': 'A', 'auth_atom_id': 'CG', 'pdbx_PDB_model_num': 1}\n"
          ]
        }
      ]
    },
    {
      "cell_type": "code",
      "source": [
        "# Creating a dictionary from a DataContainer\n",
        "dcD = {}\n",
        "\n",
        "for dataContainer in dataContainerList:\n",
        "    eName = dataContainer.getName()\n",
        "    for catName in categoryNames:\n",
        "        if not dataContainer.exists(catName):\n",
        "            continue\n",
        "        dObj = dataContainer.getObj(catName)\n",
        "        for ii in range(dObj.getRowCount()):\n",
        "            dD = dObj.getRowAttributeDict(ii)\n",
        "            dcD.setdefault(eName, {}).setdefault(catName, []).append(dD)\n",
        "\n",
        "print(dcD)"
      ],
      "metadata": {
        "collapsed": true,
        "id": "XubDaXmcYuX1"
      },
      "execution_count": null,
      "outputs": []
    },
    {
      "cell_type": "code",
      "source": [
        "# FYI—You can also export and import JSON and pickle data:\n",
        "# Works for any type of json or dictionary—doesn't need to be CIF-related!\n",
        "mU.doExport(\"4HHB.json\", dcD, fmt=\"json\")\n",
        "mU.doExport(\"4HHB.pic\", dcD, fmt=\"pickle\")"
      ],
      "metadata": {
        "id": "HrVqxKOqZSdv"
      },
      "execution_count": null,
      "outputs": []
    },
    {
      "cell_type": "markdown",
      "source": [
        "## 3. Manipulating, Deleting, and Adding Categories"
      ],
      "metadata": {
        "id": "yLA-nTu9D3a0"
      }
    },
    {
      "cell_type": "code",
      "source": [
        "### Renaming a category\n",
        "# For example, to rename \"citation\" to \"citation_reference\"\n",
        "dataContainer.rename(\"citation\", \"citation_reference\")"
      ],
      "metadata": {
        "id": "dU7gNYBRbyQK"
      },
      "execution_count": null,
      "outputs": []
    },
    {
      "cell_type": "code",
      "source": [
        "### Delete a Category\n",
        "# For example, to delete all EM-related categories:\n",
        "for catName in categoryNames:\n",
        "    if catName.startswith(\"em\"):\n",
        "        dataContainer.remove(catName)"
      ],
      "metadata": {
        "id": "Yiuqg4pfE1F3"
      },
      "execution_count": null,
      "outputs": []
    },
    {
      "cell_type": "code",
      "source": [
        "### Add a New Category\n",
        "# To add a new category to the data container:\n",
        "from mmcif.api.DataCategory import DataCategory\n",
        "\n",
        "# Create a new category object\n",
        "newCategory = DataCategory(\"new_category\", attributeNameList=[\"ordinal\", \"attribute1\", \"attribute2\"])\n",
        "\n",
        "# Add data to the category\n",
        "newCategory.append([1, \"a\", \"b\"])\n",
        "newCategory.append([2, \"c\", \"d\"])\n",
        "newCategory.append([3, \"e\", \"f\"])\n",
        "newCategory.append([4, \"g\", \"h\"])\n",
        "\n",
        "# Add the new category to the data container\n",
        "dataContainer.append(newCategory)\n",
        "\n",
        "# Now verify it is present\n",
        "categoryNames = dataContainer.getObjNameList()\n",
        "print(\"Categories:\", categoryNames)"
      ],
      "metadata": {
        "id": "psVPTQ9HD-En"
      },
      "execution_count": null,
      "outputs": []
    },
    {
      "cell_type": "code",
      "source": [
        "### All available Data Container methods:\n",
        "\n",
        "dc = dataContainerList[0]\n",
        "# >>> dc.\n",
        "# dc.append(                 dc.getGlobal()             dc.getObjNameList()        dc.invokeDataBlockMethod(  dc.rename(                 dc.setProp(\n",
        "# dc.copy(                   dc.getName()               dc.getProp(                dc.merge(                  dc.replace(                dc.setType(\n",
        "# dc.exists(                 dc.getObj(                 dc.getPropCatalog()        dc.printIt(                dc.setGlobal()             dc.toJSON()\n",
        "# dc.filterObjectNameList(   dc.getObjCatalog()         dc.getType()               dc.remove(                 dc.setName(\n",
        "\n",
        "help(dc.remove)\n"
      ],
      "metadata": {
        "id": "A1mHj_dyd249"
      },
      "execution_count": null,
      "outputs": []
    },
    {
      "cell_type": "markdown",
      "source": [
        "## 4. Exporting Data"
      ],
      "metadata": {
        "id": "imAwDkLmE8YR"
      }
    },
    {
      "cell_type": "code",
      "source": [
        "### Export as mmCIF\n",
        "mU.doExport(\"4HHB_new.cif\", dataContainerList, fmt=\"mmcif\")"
      ],
      "metadata": {
        "id": "QBs94GIgE_rf"
      },
      "execution_count": null,
      "outputs": []
    },
    {
      "cell_type": "code",
      "source": [
        "### Export as BCIF\n",
        "mU.doExport(\"4HHB_new.bcif\", dataContainerList, fmt=\"bcif\")"
      ],
      "metadata": {
        "id": "-Z-QllvdFM3z"
      },
      "execution_count": null,
      "outputs": []
    },
    {
      "cell_type": "code",
      "source": [
        "# Export as a BCIF file (with gzip compression - note that this will create a temporary file as well):\n",
        "mU.doExport(\"4HHB_new_2.bcif.gz\", dataContainerList, fmt=\"bcif\")"
      ],
      "metadata": {
        "id": "EgyVinAuMHiL"
      },
      "execution_count": null,
      "outputs": []
    },
    {
      "cell_type": "code",
      "source": [
        "### Compress the file with Gzip\n",
        "# To export the data in a compressed (gzipped) format:\n",
        "from rcsb.utils.io.FileUtil import FileUtil\n",
        "fU = FileUtil(workPath=\".\")\n",
        "fU.compress(\"4HHB_new.bcif\", \"4HHB_new.bcif.gz\")"
      ],
      "metadata": {
        "id": "WXWuOnO_Ly1a"
      },
      "execution_count": null,
      "outputs": []
    },
    {
      "cell_type": "code",
      "source": [
        "# Remove the uncompressed file\n",
        "mU.remove(\"4HHB_new.bcif\")"
      ],
      "metadata": {
        "id": "oAJLEfJ_6bub"
      },
      "execution_count": null,
      "outputs": []
    },
    {
      "cell_type": "markdown",
      "source": [
        "## 5. Working with computed structure models (CSMs)"
      ],
      "metadata": {
        "id": "ihkmWe-SVeJi"
      }
    },
    {
      "cell_type": "code",
      "source": [
        "# Read in a CSM (from AlphaFold DB)\n",
        "dataContainerList = mU.doImport(\"https://alphafold.ebi.ac.uk/files/AF-P24854-F1-model_v4.cif\", fmt=\"mmcif\")"
      ],
      "metadata": {
        "id": "3f3xwABhVYVq"
      },
      "execution_count": null,
      "outputs": []
    },
    {
      "cell_type": "code",
      "source": [
        "# Export as BCIF (using default PDBx/mmCIF dictionaries)\n",
        "mU.doExport(\"4HHB_new.bcif\", dataContainerList, fmt=\"bcif\")"
      ],
      "metadata": {
        "id": "HEhSz-uBWMqi"
      },
      "execution_count": null,
      "outputs": []
    },
    {
      "cell_type": "code",
      "source": [
        "# Export as BCIF by specifying additional dictionaries\n",
        "mU.doExport(\n",
        "    \"AF-P24854-F1.bcif\",\n",
        "    dataContainerList,\n",
        "    fmt=\"bcif\",\n",
        "    dictFilePathL=[\n",
        "        \"https://raw.githubusercontent.com/wwpdb-dictionaries/mmcif_pdbx/master/dist/mmcif_pdbx_v5_next.dic\",\n",
        "        \"https://raw.githubusercontent.com/ihmwg/ModelCIF/master/dist/mmcif_ma_ext.dic\",\n",
        "    ]\n",
        ")"
      ],
      "metadata": {
        "id": "UF1UqsCgL7rT"
      },
      "execution_count": null,
      "outputs": []
    }
  ]
}