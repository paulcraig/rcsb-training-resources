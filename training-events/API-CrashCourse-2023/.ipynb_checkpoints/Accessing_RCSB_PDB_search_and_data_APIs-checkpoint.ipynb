{
 "cells": [
  {
   "cell_type": "markdown",
   "metadata": {},
   "source": [
    "<a href=\"https://colab.research.google.com/github/rcsb/rcsb-training-resources/blob/master/Accessing_RCSB_PDB_search_and_data_APIs.ipynb\" target=\"_parent\"><img src=\"https://colab.research.google.com/assets/colab-badge.svg\" alt=\"Open In Colab\"/></a>"
   ]
  },
  {
   "cell_type": "markdown",
   "metadata": {
    "id": "z7ct9zyF59wE"
   },
   "source": [
    "# Leveraging RCSB PDB APIs for Bioinformatics Analyses and Machine Learning\n",
    "\n",
    "This Colab notebook explains how to interact with the RCSB Search & Data APIs. Code is defined in Python.\n"
   ]
  },
  {
   "cell_type": "markdown",
   "metadata": {
    "id": "r9CQWJvkjpPF"
   },
   "source": [
    "## Basics of Google Colab & Jupyter Notebooks\n",
    "\n",
    "Google Colab allows you to create documents that contain both text and code, with code that can be executed directly on this page. The Colab notebook also provide some quality-of-life features such as code completion and tools for debugging.\n",
    "\n",
    "Code is defined in \"cells\", which can be executed by clicking the \"play\" button in the top-left corner of a cell."
   ]
  },
  {
   "cell_type": "markdown",
   "metadata": {
    "id": "ajLbltuS5Pqz"
   },
   "source": [
    "### Performing an HTTP Request\n",
    "\n",
    "The following cell contains some Python code and makes a HTTP request to the [RCSB.org](https://www.rcsb.org) homepage. It contains 4 components:\n",
    "- 1st: an import statement that allows us to use the `requests` library\n",
    "- 2nd: define a variable that holds the URL of interest\n",
    "- 3rd: use the `requests` library to dispatch a request to this URL\n",
    "- 4th: a print statement that outputs the response code, with `200` meaning \"all's well\""
   ]
  },
  {
   "cell_type": "code",
   "execution_count": null,
   "metadata": {
    "colab": {
     "base_uri": "https://localhost:8080/"
    },
    "id": "5Sew58kTdx-q",
    "outputId": "b3758410-354c-4a49-e4d1-bc7a51e8175b"
   },
   "outputs": [
    {
     "name": "stdout",
     "output_type": "stream",
     "text": [
      "Status code: 200\n"
     ]
    }
   ],
   "source": [
    "# this is a comment: this cell launches a HTTP query and talks to the RCSB.org homepage\n",
    "import requests\n",
    "\n",
    "example_url = 'https://www.rcsb.org/'\n",
    "r = requests.get(example_url)\n",
    "print('Status code:', r.status_code)"
   ]
  },
  {
   "cell_type": "markdown",
   "metadata": {
    "id": "FpQDnzZ287DS"
   },
   "source": [
    "The output will be shown beneath each cell that has been executed. You can clear the output by hovering over the output and clicking the \"x\" icon left of it.\n",
    "\n",
    "Cells an be run multiple times by hovering over a cell and clicking the \"play\" button again.\n",
    "\n",
    "You can freely change the code of each cell and adapt it to your needs or experiment with inputs. How does the output change if you switch the URL to `https://google.com/`? How about `https://not-the-rcsb.org/`?\n",
    "\n",
    "If things go wrong, it can be helpful to sprinkle `print()` statements between lines."
   ]
  },
  {
   "cell_type": "markdown",
   "metadata": {
    "id": "Bu5zTgbmj0xe"
   },
   "source": [
    "### Key Points on Colab\n",
    "\n",
    "*   You can execute the code snippets right in your browser.\n",
    "*   Be sure to execute all previous cells as cells may depend on predecessors.\n",
    "*   You can make temporary edits, but changes won't affect other users.\n",
    "*   If you want to save your changes you must create a copy of this notebook at some point (use the `File` menu in the top-left)."
   ]
  },
  {
   "cell_type": "markdown",
   "metadata": {
    "id": "hd0KmPgs-l-z"
   },
   "source": [
    "## Interacting with the RCSB Search API\n",
    "[Search API](https://search.rcsb.org) allows you to compose complex search queries that combine an arbitrary number of individual search conditions in a flexible and extendable fashion. Search API can also be a powerful tool if you want to compile archive-wide statistics, such as the distribution of resolution values across all X-ray structures."
   ]
  },
  {
   "cell_type": "markdown",
   "metadata": {
    "id": "vbL4QNgoj-RM"
   },
   "source": [
    "### Defining the Search API Query\n",
    "\n",
    "Search queries are defined in a domain-specific language, which is tailored to RCSB.org. A simple query that filters for X-ray structures looks like this:"
   ]
  },
  {
   "cell_type": "code",
   "execution_count": null,
   "metadata": {
    "id": "cbonGX2u_ME4"
   },
   "outputs": [],
   "source": [
    "# a query for all X-ray structures -- execute this cell to assign the query to a variable\n",
    "query_xray = {\n",
    "  \"query\": {\n",
    "    \"type\": \"terminal\",\n",
    "    \"label\": \"text\",\n",
    "    \"service\": \"text\",\n",
    "    \"parameters\": {\n",
    "      \"attribute\": \"rcsb_entry_info.experimental_method\",\n",
    "      \"operator\": \"exact_match\",\n",
    "      \"value\": \"X-ray\"\n",
    "    }\n",
    "  },\n",
    "  \"return_type\": \"entry\"\n",
    "}"
   ]
  },
  {
   "cell_type": "markdown",
   "metadata": {
    "id": "vEsMcP0POZfv"
   },
   "source": [
    "### Using the Query Object to Make a Request to Search API\n",
    "\n",
    "The corresponding Search API endpoint can be used to execute this query. To do so pass it in JSON as URL parameter. Search API responds with JSON. We use the `json` package to convert to and from JSON."
   ]
  },
  {
   "cell_type": "code",
   "execution_count": null,
   "metadata": {
    "colab": {
     "base_uri": "https://localhost:8080/"
    },
    "id": "1aeL2q4zAOcZ",
    "outputId": "cef8de0b-67fe-44b7-a81d-7cd38c73bbdd"
   },
   "outputs": [
    {
     "name": "stdout",
     "output_type": "stream",
     "text": [
      "{\n",
      "  \"query_id\": \"c4cc0742-4b3e-4936-a0d8-623f4b50a834\",\n",
      "  \"result_type\": \"entry\",\n",
      "  \"total_count\": 179141,\n",
      "  \"result_set\": [\n",
      "    {\n",
      "      \"identifier\": \"100D\",\n",
      "      \"score\": 1.0\n",
      "    },\n",
      "    {\n",
      "      \"identifier\": \"101D\",\n",
      "      \"score\": 1.0\n",
      "    },\n",
      "    {\n",
      "      \"identifier\": \"101M\",\n",
      "      \"score\": 1.0\n",
      "    },\n",
      "    {\n",
      "      \"identifier\": \"102D\",\n",
      "      \"score\": 1.0\n",
      "    },\n",
      "    {\n",
      "      \"identifier\": \"102L\",\n",
      "      \"score\": 1.0\n",
      "    },\n",
      "    {\n",
      "      \"identifier\": \"102M\",\n",
      "      \"score\": 1.0\n",
      "    },\n",
      "    {\n",
      "      \"identifier\": \"103L\",\n",
      "      \"score\": 1.0\n",
      "    },\n",
      "    {\n",
      "      \"identifier\": \"103M\",\n",
      "      \"score\": 1.0\n",
      "    },\n",
      "    {\n",
      "      \"identifier\": \"104L\",\n",
      "      \"score\": 1.0\n",
      "    },\n",
      "    {\n",
      "      \"identifier\": \"104M\",\n",
      "      \"score\": 1.0\n",
      "    }\n",
      "  ]\n",
      "}\n"
     ]
    }
   ],
   "source": [
    "import json\n",
    "\n",
    "url_search_api = 'https://search.rcsb.org/rcsbsearch/v2/query?json='\n",
    "\n",
    "# json.dumps transforms the query object from above into something that can be part of a URL\n",
    "url_search_xray = url_search_api + json.dumps(query_xray)\n",
    "\n",
    "r = requests.get(url_search_xray)\n",
    "# .json() returns the part of the response that we care about, the payload with the search result\n",
    "result = r.json()\n",
    "# json.dumps can also help with printing JSON in a style that is easier to read\n",
    "print(json.dumps(result, indent=2))"
   ]
  },
  {
   "cell_type": "markdown",
   "metadata": {
    "id": "YsOPkeuscGR2"
   },
   "source": [
    "The result reports the `total_count` of items that matched the search condition. It shows that there are ~180,000 entries that were determined using X-ray crystallography.\n",
    "\n",
    "The actual results is accessible via the `result_set` property. In this case, the first 10 matching identifiers are reported. Identifiers are sorted by their score with more relevant items appearing first. In this case, all items have a score of `1.0` because an entry is either based on X-ray or it isn't."
   ]
  },
  {
   "cell_type": "markdown",
   "metadata": {
    "id": "yKJ3OuMck-9n"
   },
   "source": [
    "### FYI: The RCSB Search API Package is an Alternative Way to Interact with Search API\n",
    "As alternative, we offer a dedicated Python library that makes it easy to interact with Search API: https://github.com/rcsb/py-rcsbsearchapi.\n",
    "\n",
    "Install it via:"
   ]
  },
  {
   "cell_type": "code",
   "execution_count": null,
   "metadata": {
    "colab": {
     "base_uri": "https://localhost:8080/"
    },
    "id": "W4YjRRZalgFu",
    "outputId": "18217baf-3885-48be-ac2e-a04f9d6dc19c"
   },
   "outputs": [
    {
     "name": "stdout",
     "output_type": "stream",
     "text": [
      "Collecting rcsbsearchapi\n",
      "  Downloading rcsbsearchapi-1.4.2.tar.gz (177 kB)\n",
      "\u001b[?25l     \u001b[90m━━━━━━━━━━━━━━━━━━━━━━━━━━━━━━━━━━━━━━━━\u001b[0m \u001b[32m0.0/177.6 kB\u001b[0m \u001b[31m?\u001b[0m eta \u001b[36m-:--:--\u001b[0m\r",
      "\u001b[2K     \u001b[91m━━━━━━━━━━━━━━━━━━━━━━━━━━━━━━━━\u001b[0m\u001b[90m╺\u001b[0m\u001b[90m━━━━━━━\u001b[0m \u001b[32m143.4/177.6 kB\u001b[0m \u001b[31m4.1 MB/s\u001b[0m eta \u001b[36m0:00:01\u001b[0m\r",
      "\u001b[2K     \u001b[90m━━━━━━━━━━━━━━━━━━━━━━━━━━━━━━━━━━━━━━━━\u001b[0m \u001b[32m177.6/177.6 kB\u001b[0m \u001b[31m3.8 MB/s\u001b[0m eta \u001b[36m0:00:00\u001b[0m\n",
      "\u001b[?25h  Preparing metadata (setup.py) ... \u001b[?25l\u001b[?25hdone\n",
      "Requirement already satisfied: requests>=2.0.0 in /usr/local/lib/python3.10/dist-packages (from rcsbsearchapi) (2.31.0)\n",
      "Requirement already satisfied: tqdm in /usr/local/lib/python3.10/dist-packages (from rcsbsearchapi) (4.66.1)\n",
      "Requirement already satisfied: charset-normalizer<4,>=2 in /usr/local/lib/python3.10/dist-packages (from requests>=2.0.0->rcsbsearchapi) (3.3.1)\n",
      "Requirement already satisfied: idna<4,>=2.5 in /usr/local/lib/python3.10/dist-packages (from requests>=2.0.0->rcsbsearchapi) (3.4)\n",
      "Requirement already satisfied: urllib3<3,>=1.21.1 in /usr/local/lib/python3.10/dist-packages (from requests>=2.0.0->rcsbsearchapi) (2.0.7)\n",
      "Requirement already satisfied: certifi>=2017.4.17 in /usr/local/lib/python3.10/dist-packages (from requests>=2.0.0->rcsbsearchapi) (2023.7.22)\n",
      "Building wheels for collected packages: rcsbsearchapi\n",
      "  Building wheel for rcsbsearchapi (setup.py) ... \u001b[?25l\u001b[?25hdone\n",
      "  Created wheel for rcsbsearchapi: filename=rcsbsearchapi-1.4.2-py2.py3-none-any.whl size=163534 sha256=367b387be220321e2db34528c6e2558853a9f745204adf3e2eb08c5690e8eab8\n",
      "  Stored in directory: /root/.cache/pip/wheels/26/fe/3f/a1d2a0110ddf201fc3810c9c2097454f39d9ef227ea66c41c5\n",
      "Successfully built rcsbsearchapi\n",
      "Installing collected packages: rcsbsearchapi\n",
      "Successfully installed rcsbsearchapi-1.4.2\n"
     ]
    }
   ],
   "source": [
    "!pip install rcsbsearchapi"
   ]
  },
  {
   "cell_type": "markdown",
   "metadata": {
    "id": "Dxe5Htcallny"
   },
   "source": [
    "The request above has the following structure when using the RCSB Search API package:"
   ]
  },
  {
   "cell_type": "code",
   "execution_count": null,
   "metadata": {
    "colab": {
     "base_uri": "https://localhost:8080/"
    },
    "id": "xIye82CTmw8q",
    "outputId": "769367e6-022c-4a5c-bc06-4e00747901db"
   },
   "outputs": [
    {
     "name": "stdout",
     "output_type": "stream",
     "text": [
      "100D\n",
      "101D\n",
      "101M\n",
      "102D\n",
      "102L\n",
      "102M\n",
      "103L\n",
      "103M\n",
      "104L\n",
      "104M\n",
      "In total, there are 179141 matching entries\n"
     ]
    }
   ],
   "source": [
    "# some package-specific imports\n",
    "from rcsbsearchapi.search import Attr\n",
    "\n",
    "# define the query\n",
    "q = Attr('rcsb_entry_info.experimental_method').exact_match('X-ray')\n",
    "\n",
    "# execute it and limit the results to 10\n",
    "limit = 10\n",
    "for entry_id in q('entry'):\n",
    "  if limit <= 0:\n",
    "    break\n",
    "  print(entry_id)\n",
    "  limit = limit - 1\n",
    "\n",
    "print('In total, there are %s matching entries' % q.count('entry'))"
   ]
  },
  {
   "cell_type": "markdown",
   "metadata": {
    "id": "ihizKDWYAMd5"
   },
   "source": [
    "## Interacting with RCSB Data API\n",
    "[Data API](https://data.rcsb.org) provides static information on individual entries of the PDB archive. It also allows querying information on constituents of these entries such as assemblies, entities, chains, and ligands.\n",
    "\n",
    "Constituents are organized in a tree data structure and often you're only interested in a particular piece of information and don't want to look at a deluge of data. The RCSB Data API makes use of GraphQL, which defines another domain-specific way to specify which information to return.\n",
    "\n"
   ]
  },
  {
   "cell_type": "markdown",
   "metadata": {
    "id": "8jnAdCkHkKRi"
   },
   "source": [
    "### Defining the Data API Query\n",
    "Two arguments are needed to retrieve data from Data API:\n",
    "\n",
    "1.  GraphQL snippet of properties of interest\n",
    "2.  The identifier of interest"
   ]
  },
  {
   "cell_type": "code",
   "execution_count": null,
   "metadata": {
    "id": "X4G54_DH0XqM"
   },
   "outputs": [],
   "source": [
    "query_method = '''\n",
    "query Method($entry_ids: [String!]!) {\n",
    "  entries(entry_ids: $entry_ids) {\n",
    "    rcsb_id\n",
    "    exptl {\n",
    "      method\n",
    "    }\n",
    "  }\n",
    "}\n",
    "'''\n",
    "query_variables = { 'entry_ids': '100D' }"
   ]
  },
  {
   "cell_type": "markdown",
   "metadata": {
    "id": "NwGKroY5kSo6"
   },
   "source": [
    "### Installing a GraphQL client\n",
    "Interacting with GraphQL APIs has some pitfalls. Let's make use of a dedicated client to help with that. This client isn't part of the core modules, thus we need to install it using `pip`."
   ]
  },
  {
   "cell_type": "code",
   "execution_count": null,
   "metadata": {
    "colab": {
     "base_uri": "https://localhost:8080/"
    },
    "id": "RqlIHNOihF1c",
    "outputId": "51af7c24-1e5f-4fb8-ce89-e901d41a9ea2"
   },
   "outputs": [
    {
     "name": "stdout",
     "output_type": "stream",
     "text": [
      "Collecting python-graphql-client\n",
      "  Downloading python_graphql_client-0.4.3-py3-none-any.whl (4.9 kB)\n",
      "Requirement already satisfied: aiohttp~=3.0 in /usr/local/lib/python3.10/dist-packages (from python-graphql-client) (3.8.6)\n",
      "Requirement already satisfied: requests~=2.0 in /usr/local/lib/python3.10/dist-packages (from python-graphql-client) (2.31.0)\n",
      "Collecting websockets>=5.0 (from python-graphql-client)\n",
      "  Downloading websockets-12.0-cp310-cp310-manylinux_2_5_x86_64.manylinux1_x86_64.manylinux_2_17_x86_64.manylinux2014_x86_64.whl (130 kB)\n",
      "\u001b[2K     \u001b[90m━━━━━━━━━━━━━━━━━━━━━━━━━━━━━━━━━━━━━━━━\u001b[0m \u001b[32m130.2/130.2 kB\u001b[0m \u001b[31m3.2 MB/s\u001b[0m eta \u001b[36m0:00:00\u001b[0m\n",
      "\u001b[?25hRequirement already satisfied: attrs>=17.3.0 in /usr/local/lib/python3.10/dist-packages (from aiohttp~=3.0->python-graphql-client) (23.1.0)\n",
      "Requirement already satisfied: charset-normalizer<4.0,>=2.0 in /usr/local/lib/python3.10/dist-packages (from aiohttp~=3.0->python-graphql-client) (3.3.1)\n",
      "Requirement already satisfied: multidict<7.0,>=4.5 in /usr/local/lib/python3.10/dist-packages (from aiohttp~=3.0->python-graphql-client) (6.0.4)\n",
      "Requirement already satisfied: async-timeout<5.0,>=4.0.0a3 in /usr/local/lib/python3.10/dist-packages (from aiohttp~=3.0->python-graphql-client) (4.0.3)\n",
      "Requirement already satisfied: yarl<2.0,>=1.0 in /usr/local/lib/python3.10/dist-packages (from aiohttp~=3.0->python-graphql-client) (1.9.2)\n",
      "Requirement already satisfied: frozenlist>=1.1.1 in /usr/local/lib/python3.10/dist-packages (from aiohttp~=3.0->python-graphql-client) (1.4.0)\n",
      "Requirement already satisfied: aiosignal>=1.1.2 in /usr/local/lib/python3.10/dist-packages (from aiohttp~=3.0->python-graphql-client) (1.3.1)\n",
      "Requirement already satisfied: idna<4,>=2.5 in /usr/local/lib/python3.10/dist-packages (from requests~=2.0->python-graphql-client) (3.4)\n",
      "Requirement already satisfied: urllib3<3,>=1.21.1 in /usr/local/lib/python3.10/dist-packages (from requests~=2.0->python-graphql-client) (2.0.7)\n",
      "Requirement already satisfied: certifi>=2017.4.17 in /usr/local/lib/python3.10/dist-packages (from requests~=2.0->python-graphql-client) (2023.7.22)\n",
      "Installing collected packages: websockets, python-graphql-client\n",
      "Successfully installed python-graphql-client-0.4.3 websockets-12.0\n"
     ]
    }
   ],
   "source": [
    "!pip install python-graphql-client"
   ]
  },
  {
   "cell_type": "markdown",
   "metadata": {
    "id": "LlQ6WaSKkk5-"
   },
   "source": [
    "### Using the Query Objects to Make a Request to Data API\n",
    "\n",
    "---\n",
    "\n",
    "\n",
    "Use the query and the desired entry identifier to make a request to the Data API using the GraphQL client."
   ]
  },
  {
   "cell_type": "code",
   "execution_count": null,
   "metadata": {
    "colab": {
     "base_uri": "https://localhost:8080/"
    },
    "id": "zq6nxCZ3cxrR",
    "outputId": "375885ef-750b-4caf-8a67-d6370a0d053d"
   },
   "outputs": [
    {
     "name": "stdout",
     "output_type": "stream",
     "text": [
      "{\n",
      "  \"entries\": [\n",
      "    {\n",
      "      \"rcsb_id\": \"100D\",\n",
      "      \"exptl\": [\n",
      "        {\n",
      "          \"method\": \"X-RAY DIFFRACTION\"\n",
      "        }\n",
      "      ]\n",
      "    }\n",
      "  ]\n",
      "}\n"
     ]
    }
   ],
   "source": [
    "from python_graphql_client import GraphqlClient\n",
    "\n",
    "url_data_api = 'https://data.rcsb.org/graphql'\n",
    "# instantiate client with the RCSB Data API endpoint\n",
    "client = GraphqlClient(endpoint = url_data_api)\n",
    "\n",
    "result = client.execute(query=query_method, variables=query_variables)\n",
    "# actual result is wrapped in a `data` attribute, let's unwrap it right here\n",
    "result = result['data']\n",
    "\n",
    "# json.dumps can also help with printing JSON in a style that is easier to read\n",
    "print(json.dumps(result, indent=2))"
   ]
  },
  {
   "cell_type": "markdown",
   "metadata": {
    "id": "XLoIoykL4zaI"
   },
   "source": [
    "The Data API response has the same structure as whatever was requested. The schema of the Data API closely follows the mmCIF dictionary. You can also use the [GraphiQL interface](https://data.rcsb.org/graphql/index.html?query=%7B%0A%20%20entry(entry_id%3A%20%22101d%22)%20%7B%0A%20%20%20%20rcsb_id%0A%20%20%20%20exptl%20%7B%0A%20%20%20%20%20%20method%0A%20%20%20%20%7D%0A%20%20%7D%0A%7D%0A&variables=%7B%0A%20%20%22id%22%3A%20%22101d%22%0A%7D) to explore supported properties."
   ]
  },
  {
   "cell_type": "markdown",
   "metadata": {
    "id": "KXQFjVU0zID3"
   },
   "source": [
    "## Conclusion\n",
    "The examples above provide you with the biolerplate code necessary to interact with the RCSB Search & Data APIs. Adapt these examples to your use-case."
   ]
  },
  {
   "cell_type": "code",
   "execution_count": null,
   "metadata": {
    "id": "I0F7tIuo0Yvb"
   },
   "outputs": [],
   "source": [
    "# you can either edit the cells above or add your code below\n",
    "\n"
   ]
  }
 ],
 "metadata": {
  "colab": {
   "provenance": []
  },
  "kernelspec": {
   "display_name": "Python 3 (ipykernel)",
   "language": "python",
   "name": "python3"
  },
  "language_info": {
   "codemirror_mode": {
    "name": "ipython",
    "version": 3
   },
   "file_extension": ".py",
   "mimetype": "text/x-python",
   "name": "python",
   "nbconvert_exporter": "python",
   "pygments_lexer": "ipython3",
   "version": "3.9.7"
  }
 },
 "nbformat": 4,
 "nbformat_minor": 1
}
