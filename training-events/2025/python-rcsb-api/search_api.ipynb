{
 "cells": [
  {
   "cell_type": "markdown",
   "metadata": {},
   "source": [
    "<a href=\"https://colab.research.google.com/github/rcsb/rcsb-training-resources/blob/master/training-events/2025/python-rcsb-api/search_api.ipynb\" target=\"_parent\"><img src=\"https://colab.research.google.com/assets/colab-badge.svg\" alt=\"Open In Colab\"/></a>"
   ]
  },
  {
   "cell_type": "markdown",
   "metadata": {},
   "source": [
    "# Using `rcsb-api` to access RCSB PDB's Search API"
   ]
  },
  {
   "cell_type": "code",
   "execution_count": null,
   "metadata": {},
   "outputs": [],
   "source": [
    "# Install `rcsb-api`\n",
    "%pip install --upgrade rcsb-api"
   ]
  },
  {
   "cell_type": "markdown",
   "metadata": {},
   "source": [
    "## Creating a Search API Query"
   ]
  },
  {
   "cell_type": "markdown",
   "metadata": {},
   "source": [
    "We'll start by using `TextQuery` and `AttributeQuery` to search for PDB IDs associated with the phrase \"Hemoglobin\" and from Homo sapiens."
   ]
  },
  {
   "cell_type": "code",
   "execution_count": null,
   "metadata": {},
   "outputs": [],
   "source": [
    "from rcsbapi.search import TextQuery, AttributeQuery\n",
    "\n",
    "# Search for structures associated with the phrase \"Hemoglobin\"\n",
    "q1 = TextQuery(value=\"Hemoglobin\")\n",
    "# Search for structures with Homo sapiens as a source organism\n",
    "q2 = AttributeQuery(\n",
    "    attribute=\"rcsb_entity_source_organism.scientific_name\",\n",
    "    operator=\"exact_match\",  # Other operators include \"contains_phrase\", \"exists\", and more\n",
    "    value=\"Homo sapiens\"\n",
    ")\n",
    "\n",
    "# Use operators to combine queries\n",
    "# & = AND\n",
    "# | = OR\n",
    "# ~ = NOT\n",
    "query = q1 & q2"
   ]
  },
  {
   "cell_type": "code",
   "execution_count": null,
   "metadata": {},
   "outputs": [],
   "source": [
    "# Execute the query by running it as a function\n",
    "results = query()"
   ]
  },
  {
   "cell_type": "code",
   "execution_count": null,
   "metadata": {},
   "outputs": [],
   "source": [
    "# Results are returned as an iterator of result identifiers.\n",
    "for rid in results:\n",
    "    print(rid)"
   ]
  },
  {
   "cell_type": "code",
   "execution_count": null,
   "metadata": {},
   "outputs": [],
   "source": [
    "# Can also convert results to a list\n",
    "list(results)"
   ]
  },
  {
   "cell_type": "markdown",
   "metadata": {},
   "source": [
    "By default, queries return only the ids of experimentally-determined models. You can control whether Computed Structure Models (CSMs) are returned through the `return_content_type` parameter."
   ]
  },
  {
   "cell_type": "code",
   "execution_count": null,
   "metadata": {},
   "outputs": [],
   "source": [
    "# Using the above query, return both experimental models and CSMs\n",
    "results = query(return_content_type=[\"computational\", \"experimental\"])\n",
    "list(results)"
   ]
  },
  {
   "cell_type": "markdown",
   "metadata": {},
   "source": [
    "The Search API offers many other types of search besides `TextQuery` and `AttributeQuery` and these are also supported by the Python package.\n",
    "\n",
    "To find examples using the below queries, check out our [readthedocs](https://rcsbapi.readthedocs.io/en/latest/search_api/additional_examples.html) page.\n",
    "\n",
    "|Search service                    |QueryType                 |\n",
    "|----------------------------------|--------------------------|\n",
    "|Full-text                         |`TextQuery()`             |\n",
    "|Attribute (structure or chemical) |`AttributeQuery()`        |\n",
    "|Sequence similarity               |`SeqSimilarityQuery()`    |\n",
    "|Sequence motif                    |`SeqMotifQuery()`         |\n",
    "|Structure similarity              |`StructSimilarityQuery()` |\n",
    "|Structure motif                   |`StructMotifQuery()`      |\n",
    "|Chemical similarity               |`ChemSimilarityQuery()`   |"
   ]
  },
  {
   "cell_type": "markdown",
   "metadata": {},
   "source": [
    "Our Search API and Search API package support `facets`, which will sort results into buckets based on the returned values. This allows you to calculate statistics for your results.\n",
    "\n",
    "For example, you can search for how many models released since 2000 were determined by each experimental method."
   ]
  },
  {
   "cell_type": "code",
   "execution_count": 17,
   "metadata": {},
   "outputs": [],
   "source": [
    "from rcsbapi.search import AttributeQuery\n",
    "from rcsbapi.search import Facet\n",
    "\n",
    "# Define the query\n",
    "q = AttributeQuery(\n",
    "    attribute=\"rcsb_accession_info.initial_release_date\",\n",
    "    operator=\"greater\",\n",
    "    value=\"2000-01-01\",\n",
    ") "
   ]
  },
  {
   "cell_type": "code",
   "execution_count": 18,
   "metadata": {},
   "outputs": [],
   "source": [
    "# Add a facet when executing the query\n",
    "results = q(\n",
    "    facets= Facet(\n",
    "        name=\"Experimental Methods\",\n",
    "        aggregation_type=\"terms\",\n",
    "        attribute=\"exptl.method\",\n",
    "        min_interval_population=1000\n",
    "    )\n",
    ")"
   ]
  },
  {
   "cell_type": "code",
   "execution_count": null,
   "metadata": {},
   "outputs": [],
   "source": [
    "# Accessing facet results\n",
    "results.facets"
   ]
  },
  {
   "cell_type": "markdown",
   "metadata": {},
   "source": [
    "For more information on using `facets`, check out our [API documentation](https://search.rcsb.org/#using-facets) and [readthedocs](https://rcsbapi.readthedocs.io/en/latest/search_api/additional_examples.html#faceted-query-examples).\n",
    "\n",
    "You can find additional examples utilizing other API features like [grouping results](https://rcsbapi.readthedocs.io/en/latest/search_api/additional_examples.html#groupby-example) and [sorting results](https://rcsbapi.readthedocs.io/en/latest/search_api/additional_examples.html#sort-example) on our readthedocs."
   ]
  },
  {
   "cell_type": "markdown",
   "metadata": {},
   "source": [
    "## Visualizing and Manipulating Queries"
   ]
  },
  {
   "cell_type": "markdown",
   "metadata": {},
   "source": [
    "Once you have a query constructed, you can look at the full query in our Search API query editor or in the advanced query builder."
   ]
  },
  {
   "cell_type": "code",
   "execution_count": null,
   "metadata": {},
   "outputs": [],
   "source": [
    "from rcsbapi.search import TextQuery\n",
    "from rcsbapi.search import search_attributes as attrs\n",
    "\n",
    "# Query for structures associated with phrase \"interleukin\" from Homo sapiens with investigational or experimental drugs\n",
    "\n",
    "q1 = TextQuery(\"interleukin\")\n",
    "# You can also make `AttributeQuery`s using `search_attributes` object and operators\n",
    "q2 = attrs.rcsb_entity_source_organism.scientific_name == \"Homo sapiens\"\n",
    "q3 = attrs.drugbank_info.drug_groups == \"investigational\"\n",
    "q4 = attrs.drugbank_info.drug_groups == \"experimental\"\n",
    "\n",
    "# Construct the query using AND and OR operators\n",
    "query = q1 & q2 & (q3 | q4)\n",
    "results = query()"
   ]
  },
  {
   "cell_type": "code",
   "execution_count": null,
   "metadata": {},
   "outputs": [],
   "source": [
    "# Get link to Search API query editor\n",
    "results.get_editor_link()"
   ]
  },
  {
   "cell_type": "code",
   "execution_count": null,
   "metadata": {},
   "outputs": [],
   "source": [
    "# Get link to advanced query builder populated with query\n",
    "# From the builder, you can edit query and also access query editor\n",
    "# TODO: not populating correctly?\n",
    "results.get_query_builder_link()"
   ]
  },
  {
   "cell_type": "markdown",
   "metadata": {},
   "source": [
    "## Exploring the API Schema"
   ]
  },
  {
   "cell_type": "markdown",
   "metadata": {},
   "source": [
    "The package offers ways to explore attributes and their descriptions."
   ]
  },
  {
   "cell_type": "code",
   "execution_count": null,
   "metadata": {},
   "outputs": [],
   "source": [
    "from rcsbapi.search import search_attributes as attrs\n",
    "\n",
    "# Search attributes based on a string or regex pattern\n",
    "attrs.search(\"ligand\")"
   ]
  },
  {
   "cell_type": "code",
   "execution_count": null,
   "metadata": {},
   "outputs": [],
   "source": [
    "# If you already know the name of the attribute, you can search using `get_attribute_details`\n",
    "attrs.get_attribute_details(attribute=\"rcsb_ligand_neighbors.ligand_is_bound\")"
   ]
  },
  {
   "cell_type": "markdown",
   "metadata": {},
   "source": [
    "You can also look at our Search API documentation. Attribute information is split into [structure attributes](https://search.rcsb.org/structure-search-attributes.html) and [chemical attributes](https://search.rcsb.org/chemical-search-attributes.html).\n",
    "\n",
    "If you've built a query in the advanced query editor and would like to know the corresponding Search API attribute, you can check this [attribute details](https://www.rcsb.org/docs/search-and-browse/advanced-search/attribute-details) page"
   ]
  },
  {
   "cell_type": "markdown",
   "metadata": {},
   "source": [
    "## Further Documentation"
   ]
  },
  {
   "cell_type": "markdown",
   "metadata": {},
   "source": [
    "See our [readthedocs](https://rcsbapi.readthedocs.io/en/latest/search_api/api.html) page for additional examples using different search services and features like facets and grouping."
   ]
  }
 ],
 "metadata": {
  "kernelspec": {
   "display_name": "3.12.8",
   "language": "python",
   "name": "python3"
  },
  "language_info": {
   "codemirror_mode": {
    "name": "ipython",
    "version": 3
   },
   "file_extension": ".py",
   "mimetype": "text/x-python",
   "name": "python",
   "nbconvert_exporter": "python",
   "pygments_lexer": "ipython3",
   "version": "3.12.8"
  }
 },
 "nbformat": 4,
 "nbformat_minor": 2
}
