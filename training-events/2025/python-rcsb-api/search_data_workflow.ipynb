{
 "cells": [
  {
   "cell_type": "markdown",
   "metadata": {},
   "source": [
    "<a href=\"https://colab.research.google.com/github/rcsb/rcsb-training-resources/blob/master/training-events/2025/python-rcsb-api/search_data_workflow.ipynb\" target=\"_parent\"><img src=\"https://colab.research.google.com/assets/colab-badge.svg\" alt=\"Open In Colab\"/></a>"
   ]
  },
  {
   "cell_type": "code",
   "execution_count": null,
   "metadata": {},
   "outputs": [],
   "source": [
    "# Install `rcsb-api`\n",
    "%pip install --upgrade rcsb-api"
   ]
  },
  {
   "cell_type": "markdown",
   "metadata": {},
   "source": [
    "# Using Search and Data APIs Together"
   ]
  },
  {
   "cell_type": "markdown",
   "metadata": {},
   "source": [
    "The Search and Data APIs are most powerful when used together.\n",
    "\n",
    "You can use the Search API to identify structures of interest and then use the Data API to request information about those structures.\n",
    "\n",
    "In the example below, we will use the Search API to request structures with the HIV protease inhibitor, ritonavir, bound. Then, we will identify which amino acid residues interact with ritonavir using the Data API."
   ]
  },
  {
   "cell_type": "markdown",
   "metadata": {},
   "source": [
    "## Search API Query"
   ]
  },
  {
   "cell_type": "code",
   "execution_count": null,
   "metadata": {},
   "outputs": [],
   "source": [
    "from rcsbapi.search import search_attributes as attrs\n",
    "\n",
    "# Search for all structures bound to ritonavir\n",
    "q1 = attrs.rcsb_chem_comp_annotation.annotation_lineage.id == \"J05AE03\"\n",
    "q2 = attrs.rcsb_chem_comp_annotation.type == \"ATC\"\n",
    "\n",
    "search_query = q1 & q2\n",
    "search_results = list(search_query())\n",
    "\n",
    "# Check first 10\n",
    "print(search_results[:10])"
   ]
  },
  {
   "cell_type": "markdown",
   "metadata": {},
   "source": [
    "Once you have this list of structures, you can request data on each structure's interactions with ritonavir"
   ]
  },
  {
   "cell_type": "markdown",
   "metadata": {},
   "source": [
    "## Data API Query"
   ]
  },
  {
   "cell_type": "code",
   "execution_count": null,
   "metadata": {},
   "outputs": [],
   "source": [
    "from rcsbapi.data import DataQuery as Query\n",
    "\n",
    "# Ligand interactions are contained in instance features\n",
    "# Use the Search API results for the `input_ids` argument\n",
    "data_query = Query(\n",
    "    input_type=\"entries\",\n",
    "    input_ids=search_results,\n",
    "    return_data_list=[\"rcsb_polymer_instance_feature\"]\n",
    ")\n",
    "\n",
    "data_results = data_query.exec()\n",
    "\n",
    "print(data_results)"
   ]
  },
  {
   "cell_type": "markdown",
   "metadata": {},
   "source": [
    "## Parse Results"
   ]
  },
  {
   "cell_type": "markdown",
   "metadata": {},
   "source": [
    "Responses to Data API queries will be returned in JSON format. Once you get a response, you can parse it into a format that is most helpful for you.\n",
    "\n",
    "Below, we will parse the results into a nested dictionary where the keys are entries and the values are a list of ligand interactions."
   ]
  },
  {
   "cell_type": "code",
   "execution_count": null,
   "metadata": {},
   "outputs": [],
   "source": [
    "# For easier-to-read output\n",
    "from pprint import pprint\n",
    "\n",
    "# We will store our parsed results in the `ligand_interactions` dict\n",
    "ligand_interactions = {}\n",
    "\n",
    "# Loop through entry results\n",
    "entry_responses = data_results[\"data\"][\"entries\"]\n",
    "for entry in entry_responses:\n",
    "    entry_id = entry[\"rcsb_id\"]\n",
    "    \n",
    "    # Navigate to instance features, which is where ligand interactions will be noted\n",
    "    for polymer_entity in entry[\"polymer_entities\"]:\n",
    "        for instance in polymer_entity[\"polymer_entity_instances\"]:\n",
    "            for instance_feature in instance[\"rcsb_polymer_instance_feature\"]:\n",
    "                # Other instance features will also be in this list, so check the \"feature_id\"\n",
    "                # Also check for None values\n",
    "                if (instance_feature[\"feature_id\"]) and (\"LIGAND_INTERACTION\" in instance_feature[\"feature_id\"]):\n",
    "                    # Find residue identity, beginning sequence position, and end sequence position for each residue\n",
    "                    residue_list = instance_feature[\"feature_positions\"]\n",
    "                    for residue in residue_list:\n",
    "                        residue_dict = {\n",
    "                            \"residue\": residue[\"beg_comp_id\"],\n",
    "                            \"beg_seq_id\": residue[\"beg_seq_id\"],\n",
    "                            \"end_seq_id\": residue[\"end_seq_id\"]\n",
    "                        }\n",
    "\n",
    "                    # Find instance ID\n",
    "                    instance_id = \"\"\n",
    "                    additional_properties_list = instance_feature[\"additional_properties\"]\n",
    "                    for property in additional_properties_list:\n",
    "                        if property[\"name\"] == \"PARTNER_ASYM_ID\":\n",
    "                            instance_id = property[\"values\"][0]\n",
    "                            break\n",
    "                    \n",
    "                    full_id = f\"{entry_id}.{instance_id}\"\n",
    "\n",
    "            # Some instances will have multiple ligand interactions, so check if the instance is already in `ligand_interactions`\n",
    "            if entry_id in ligand_interactions:\n",
    "                ligand_interactions[entry_id].append(\n",
    "                    {full_id: residue_dict}\n",
    "                )\n",
    "            else:\n",
    "                ligand_interactions[entry_id] = [\n",
    "                    {full_id: residue_dict}\n",
    "                ]\n",
    "\n",
    "pprint(ligand_interactions)"
   ]
  },
  {
   "cell_type": "markdown",
   "metadata": {},
   "source": [
    "This example outlined the general workflow of using the Search API to find a list of structures of interest, then using the Data API to find data about each structure, and finally parsing the Data API response into a data structure that suits your project.\n",
    "\n",
    "For further documentation on the `rcsb-api` package, check our [readthedocs](https://rcsbapi.readthedocs.io/en/latest/index.html)."
   ]
  },
  {
   "cell_type": "markdown",
   "metadata": {},
   "source": [
    "# DWP SUGGESTIONS"
   ]
  },
  {
   "cell_type": "markdown",
   "metadata": {},
   "source": [
    "## Data API Query"
   ]
  },
  {
   "cell_type": "code",
   "execution_count": null,
   "metadata": {},
   "outputs": [],
   "source": [
    "from rcsbapi.data import DataQuery as Query\n",
    "\n",
    "# Ligand interactions are contained in instance features\n",
    "# Also explicitly request the instance-level `rcsb_id`\n",
    "# Use the Search API results for the `input_ids` argument\n",
    "data_query = Query(\n",
    "    input_type=\"entries\",\n",
    "    input_ids=search_results,\n",
    "    return_data_list=[\"rcsb_polymer_instance_feature\", \"polymer_entity_instances.rcsb_id\"]\n",
    ")\n",
    "\n",
    "data_results = data_query.exec()\n",
    "\n",
    "# Print the first result\n",
    "print(data_results[\"data\"][\"entries\"][0])"
   ]
  },
  {
   "cell_type": "markdown",
   "metadata": {},
   "source": [
    "## Parse Results"
   ]
  },
  {
   "cell_type": "markdown",
   "metadata": {},
   "source": [
    "Responses to Data API queries will be returned in JSON format. Once you get a response, you can parse it into a format that is most helpful for you.\n",
    "\n",
    "Below, we will parse the results into a nested dictionary where the keys are entity instance IDs and the values are a list of ligand interactions."
   ]
  },
  {
   "cell_type": "code",
   "execution_count": null,
   "metadata": {},
   "outputs": [],
   "source": [
    "# For easier-to-read output\n",
    "from pprint import pprint\n",
    "\n",
    "# We will store our parsed results in the `ligand_interactions` dict\n",
    "ligand_interactions = {}\n",
    "\n",
    "def extract_feature_positions(data, feature_type, feature_name):\n",
    "    \"\"\"Extract out feature positions for 'feature_type' (e.g., 'LIGAND_INTERACTION')\n",
    "     with 'feature_name' (e.g., 'ligand RIT').\"\"\"\n",
    "    result = {}\n",
    "    for entry in data.get(\"data\", {}).get(\"entries\", []):\n",
    "        for polymer_entity in entry.get(\"polymer_entities\", []):\n",
    "            for instance in polymer_entity.get(\"polymer_entity_instances\", []):\n",
    "                rcsb_id = instance.get(\"rcsb_id\")  # Extract instance rcsb_id\n",
    "                if not rcsb_id:\n",
    "                    continue\n",
    "                for feature in instance.get(\"rcsb_polymer_instance_feature\", []):\n",
    "                    if feature.get(\"type\") == feature_type and feature.get(\"name\") == feature_name:\n",
    "                        if rcsb_id not in result:\n",
    "                            result[rcsb_id] = []\n",
    "                        # Extract the minimal uniquely-identifying details\n",
    "                        result[rcsb_id].append({\n",
    "                            \"additional_properties\": feature.get(\"additional_properties\", []),\n",
    "                            \"description\": feature.get(\"description\", \"\"),\n",
    "                            \"feature_positions\": [\n",
    "                                {\"beg_seq_id\": pos[\"beg_seq_id\"], \"beg_comp_id\": pos[\"beg_comp_id\"]}\n",
    "                                for pos in feature.get(\"feature_positions\", [])\n",
    "                            ]\n",
    "                        })\n",
    "    return result\n",
    "\n",
    "ligand_interactions = extract_feature_positions(data_results, \"LIGAND_INTERACTION\", \"ligand RIT\")\n",
    "\n",
    "pprint(ligand_interactions)"
   ]
  }
 ],
 "metadata": {
  "kernelspec": {
   "display_name": "Python 3",
   "language": "python",
   "name": "python3"
  },
  "language_info": {
   "codemirror_mode": {
    "name": "ipython",
    "version": 3
   },
   "file_extension": ".py",
   "mimetype": "text/x-python",
   "name": "python",
   "nbconvert_exporter": "python",
   "pygments_lexer": "ipython3",
   "version": "3.10.16"
  }
 },
 "nbformat": 4,
 "nbformat_minor": 2
}
