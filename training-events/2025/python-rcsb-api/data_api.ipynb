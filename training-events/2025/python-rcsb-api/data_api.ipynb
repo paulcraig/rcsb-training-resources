{
 "cells": [
  {
   "cell_type": "markdown",
   "metadata": {},
   "source": [
    "<a href=\"https://colab.research.google.com/github/rcsb/rcsb-training-resources/blob/master/training-events/2025/python-rcsb-api/data_api.ipynb\" target=\"_parent\"><img src=\"https://colab.research.google.com/assets/colab-badge.svg\" alt=\"Open In Colab\"/></a>"
   ]
  },
  {
   "cell_type": "markdown",
   "metadata": {},
   "source": [
    "# Using `rcsb-api` to access RCSB PDB's Data API"
   ]
  },
  {
   "cell_type": "code",
   "execution_count": null,
   "metadata": {},
   "outputs": [],
   "source": [
    "# Install `rcsb-api`\n",
    "%pip install --upgrade rcsb-api"
   ]
  },
  {
   "cell_type": "markdown",
   "metadata": {},
   "source": [
    "## Creating a Data API Query"
   ]
  },
  {
   "cell_type": "markdown",
   "metadata": {},
   "source": [
    "We'll start by making a Data API query to find the experimental method used to determine PDB entry 4HHB."
   ]
  },
  {
   "cell_type": "markdown",
   "metadata": {},
   "source": [
    "A few arguments are required to create a query:\n",
    "\n",
    "`input_type`: defines the starting point of your query. Some examples include `entries`, `polymer_entities`, and `chem_comps`. If you're unsure which `input_type` to choose, you can usually use `entries`.\n",
    "\n",
    "`input_ids`: the identifiers of given `input_type` that you would like to search for. There are specific formats for PDB IDs of different `input_type`s\n",
    "|Type|PDB ID Format|Example|\n",
    "|---|---|---|\n",
    "|entries|entry id|4HHB|\n",
    "|polymer, branched, or non-polymer entities|[entry_id]_[entity_id]|4HHB_1|\n",
    "|polymer, branched, or non-polymer entity instances|[entry_id].[asym_id]|4HHB.A|\n",
    "|biological assemblies|[entry_id]-[assembly_id]|4HHB-1|\n",
    "|interface|[entry_id]-[assembly_id].[interface_id]|4HHB-1.1|\n",
    "\n",
    "`return_data_list`: the data to request for each of the given `input_ids`"
   ]
  },
  {
   "cell_type": "code",
   "execution_count": null,
   "metadata": {},
   "outputs": [],
   "source": [
    "from rcsbapi.data import DataQuery as Query\n",
    "\n",
    "# Create a `DataQuery`/`Query` object\n",
    "query = Query(\n",
    "    input_type=\"entries\",\n",
    "    input_ids=[\"4HHB\"],  # CSM IDs can be used as well\n",
    "    return_data_list=[\"exptl.method\"]\n",
    ")"
   ]
  },
  {
   "cell_type": "code",
   "execution_count": null,
   "metadata": {},
   "outputs": [],
   "source": [
    "# Execute the query using `.exec` method\n",
    "results = query.exec()"
   ]
  },
  {
   "cell_type": "code",
   "execution_count": null,
   "metadata": {},
   "outputs": [],
   "source": [
    "# Response is returned by `.exec`\n",
    "print(results)"
   ]
  },
  {
   "cell_type": "code",
   "execution_count": null,
   "metadata": {},
   "outputs": [],
   "source": [
    "# You can also access the response through the object\n",
    "print(query.get_response())"
   ]
  },
  {
   "cell_type": "markdown",
   "metadata": {},
   "source": [
    "By using the Search API and Data API together, you can first refine a list of IDs that are of interest and then request data on those particular structures.\n",
    "\n",
    "In the example below, we selected human structures associated with the phrase \"interleukin\" with investigational or experimental drugs. Once we've narrowed down structures of interest, we'll request the structure's experimental method and resolution."
   ]
  },
  {
   "cell_type": "code",
   "execution_count": null,
   "metadata": {},
   "outputs": [],
   "source": [
    "from rcsbapi.search import TextQuery\n",
    "from rcsbapi.search import search_attributes as attrs\n",
    "\n",
    "# Query for structures associated with phrase \"interleukin\" from Homo sapiens with investigational or experimental drugs\n",
    "q1 = TextQuery(\"interleukin\")\n",
    "q2 = attrs.rcsb_entity_source_organism.scientific_name == \"Homo sapiens\"\n",
    "q3 = attrs.drugbank_info.drug_groups == \"investigational\"\n",
    "q4 = attrs.drugbank_info.drug_groups == \"experimental\"\n",
    "\n",
    "search_query = q1 & q2 & (q3 | q4)\n",
    "results = search_query()\n",
    "\n",
    "# Get first 50 IDs from Search API query\n",
    "id_list = list(results)[:50]"
   ]
  },
  {
   "cell_type": "code",
   "execution_count": null,
   "metadata": {},
   "outputs": [],
   "source": [
    "from rcsbapi.data import DataQuery as Query\n",
    "\n",
    "# Use `id_list` to make Data API query\n",
    "data_query = Query(\n",
    "    input_type=\"entries\",\n",
    "    input_ids=id_list,\n",
    "    return_data_list=[\"exptl.method\", \"diffrn_resolution_high.value\"]\n",
    ")\n",
    "\n",
    "results = data_query.exec()\n",
    "print(results)"
   ]
  },
  {
   "cell_type": "markdown",
   "metadata": {},
   "source": [
    "## Searching All Structures"
   ]
  },
  {
   "cell_type": "markdown",
   "metadata": {},
   "source": [
    "If you're interested in archive-wide data, you can use `ALL_STRUCTURES` to request fields for every `entry` or `chem_comp` in the PDB. Note that these queries will take longer to complete than queries using fewer structures."
   ]
  },
  {
   "cell_type": "code",
   "execution_count": null,
   "metadata": {},
   "outputs": [],
   "source": [
    "from rcsbapi.data import ALL_STRUCTURES\n",
    "from rcsbapi.data import DataQuery as Query\n",
    "\n",
    "query = Query(\n",
    "    input_type=\"chem_comps\",\n",
    "    input_ids=ALL_STRUCTURES,\n",
    "    return_data_list=[\"drugbank_info.drugbank_id\"]\n",
    ")\n",
    "\n",
    "# Set progress_bar to True to track query's progress\n",
    "# progress bar shows number of completed batches\n",
    "results = query.exec(progress_bar=True)\n",
    "\n",
    "# ALL_STRUCTURES can also be used with entries.\n",
    "# The below query is resource-intensive so it's commented out by default.\n",
    "# query = Query(\n",
    "#     input_type=\"entries\",\n",
    "#     input_ids=ALL_STRUCTURES,\n",
    "#     return_data_list=[\"exptl.method\"]\n",
    "# )\n",
    "# results = query.exec(progress_bar=True)"
   ]
  },
  {
   "cell_type": "markdown",
   "metadata": {},
   "source": [
    "## Visualizing and Manipulating Queries"
   ]
  },
  {
   "cell_type": "markdown",
   "metadata": {},
   "source": [
    "Once you have constructed a query, you can visualize it in our Data API query editor by using the `get_editor_link` method."
   ]
  },
  {
   "cell_type": "code",
   "execution_count": null,
   "metadata": {},
   "outputs": [],
   "source": [
    "from rcsbapi.data import DataQuery as Query\n",
    "\n",
    "query = Query(input_type=\"entries\", input_ids=[\"4HHB\"], return_data_list=[\"exptl.method\"])\n",
    "print(query.get_editor_link())"
   ]
  },
  {
   "cell_type": "markdown",
   "metadata": {},
   "source": [
    "## Exploring the Schema"
   ]
  },
  {
   "cell_type": "markdown",
   "metadata": {},
   "source": [
    "To explore the Data API schema through the package, you can use the `find_field_names` and `find_paths` methods"
   ]
  },
  {
   "cell_type": "code",
   "execution_count": null,
   "metadata": {},
   "outputs": [],
   "source": [
    "from rcsbapi.data import DataSchema\n",
    "\n",
    "# Initialize a schema object\n",
    "schema = DataSchema()\n",
    "\n",
    "# To search for fields use `find_field_names`\n",
    "schema.find_field_names(\"ligand\")"
   ]
  },
  {
   "cell_type": "code",
   "execution_count": null,
   "metadata": {},
   "outputs": [],
   "source": [
    "# Pick your intended field and find the path from your desired `input_type` using `find_paths`\n",
    "schema.find_paths(\n",
    "    input_type=\"entries\",\n",
    "    return_data_name=\"rcsb_ligand_neighbors\"\n",
    ")"
   ]
  },
  {
   "cell_type": "markdown",
   "metadata": {},
   "source": [
    "You can also explore our schema through our [Data API query editor](https://data.rcsb.org/graphql/index.html)'s Documentation Explorer"
   ]
  },
  {
   "cell_type": "markdown",
   "metadata": {},
   "source": [
    "## Further Documentation"
   ]
  },
  {
   "cell_type": "markdown",
   "metadata": {},
   "source": [
    "For more extensive examples and implementation details visit our [readthedocs](https://rcsbapi.readthedocs.io/en/latest/data_api/quickstart.html)."
   ]
  }
 ],
 "metadata": {
  "kernelspec": {
   "display_name": "3.12.8",
   "language": "python",
   "name": "python3"
  },
  "language_info": {
   "codemirror_mode": {
    "name": "ipython",
    "version": 3
   },
   "file_extension": ".py",
   "mimetype": "text/x-python",
   "name": "python",
   "nbconvert_exporter": "python",
   "pygments_lexer": "ipython3",
   "version": "3.12.8"
  }
 },
 "nbformat": 4,
 "nbformat_minor": 2
}
