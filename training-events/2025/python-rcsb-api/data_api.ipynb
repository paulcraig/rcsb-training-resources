{
 "cells": [
  {
   "cell_type": "markdown",
   "metadata": {},
   "source": [
    "<a href=\"https://colab.research.google.com/github/rcsb/rcsb-training-resources/blob/master/training-events/2025/search_api_streamlining_access_to_rcsb_pdb_apis_with_python/data_api.ipynb\" target=\"_parent\"><img src=\"https://colab.research.google.com/assets/colab-badge.svg\" alt=\"Open In Colab\"/></a>"
   ]
  },
  {
   "cell_type": "markdown",
   "metadata": {},
   "source": [
    "# Using `rcsb-api` to access RCSB PDB's Data API"
   ]
  },
  {
   "cell_type": "code",
   "execution_count": 2,
   "metadata": {},
   "outputs": [
    {
     "name": "stdout",
     "output_type": "stream",
     "text": [
      "Requirement already satisfied: rcsb-api in /Users/itruong/.pyenv/versions/3.12.8/lib/python3.12/site-packages (1.0.1)\n",
      "Requirement already satisfied: requests>=2.0.0 in /Users/itruong/.pyenv/versions/3.12.8/lib/python3.12/site-packages (from rcsb-api) (2.32.3)\n",
      "Requirement already satisfied: rustworkx in /Users/itruong/.pyenv/versions/3.12.8/lib/python3.12/site-packages (from rcsb-api) (0.15.1)\n",
      "Requirement already satisfied: graphql-core in /Users/itruong/.pyenv/versions/3.12.8/lib/python3.12/site-packages (from rcsb-api) (3.2.5)\n",
      "Requirement already satisfied: tqdm in /Users/itruong/.pyenv/versions/3.12.8/lib/python3.12/site-packages (from rcsb-api) (4.67.1)\n",
      "Requirement already satisfied: charset-normalizer<4,>=2 in /Users/itruong/.pyenv/versions/3.12.8/lib/python3.12/site-packages (from requests>=2.0.0->rcsb-api) (3.4.1)\n",
      "Requirement already satisfied: idna<4,>=2.5 in /Users/itruong/.pyenv/versions/3.12.8/lib/python3.12/site-packages (from requests>=2.0.0->rcsb-api) (3.10)\n",
      "Requirement already satisfied: urllib3<3,>=1.21.1 in /Users/itruong/.pyenv/versions/3.12.8/lib/python3.12/site-packages (from requests>=2.0.0->rcsb-api) (2.3.0)\n",
      "Requirement already satisfied: certifi>=2017.4.17 in /Users/itruong/.pyenv/versions/3.12.8/lib/python3.12/site-packages (from requests>=2.0.0->rcsb-api) (2024.12.14)\n",
      "Requirement already satisfied: numpy<3,>=1.16.0 in /Users/itruong/.pyenv/versions/3.12.8/lib/python3.12/site-packages (from rustworkx->rcsb-api) (2.2.3)\n",
      "\n",
      "\u001b[1m[\u001b[0m\u001b[34;49mnotice\u001b[0m\u001b[1;39;49m]\u001b[0m\u001b[39;49m A new release of pip is available: \u001b[0m\u001b[31;49m24.3.1\u001b[0m\u001b[39;49m -> \u001b[0m\u001b[32;49m25.0.1\u001b[0m\n",
      "\u001b[1m[\u001b[0m\u001b[34;49mnotice\u001b[0m\u001b[1;39;49m]\u001b[0m\u001b[39;49m To update, run: \u001b[0m\u001b[32;49mpip install --upgrade pip\u001b[0m\n",
      "Note: you may need to restart the kernel to use updated packages.\n"
     ]
    }
   ],
   "source": [
    "# Install `rcsb-api`\n",
    "%pip install --upgrade rcsb-api"
   ]
  },
  {
   "cell_type": "markdown",
   "metadata": {},
   "source": [
    "## Creating a Data API Query"
   ]
  },
  {
   "cell_type": "markdown",
   "metadata": {},
   "source": [
    "We'll start by making a Data API query to find the experimental method used to determine PDB entry 4HHB."
   ]
  },
  {
   "cell_type": "markdown",
   "metadata": {},
   "source": [
    "A few arguments are required to create a query:\n",
    "\n",
    "`input_type`: defines the starting point of your query. Some examples include `entries`, `polymer_entities`, and `chem_comps`. If you're unsure which `input_type` to choose, you can usually use `entries`.\n",
    "\n",
    "`input_ids`: the identifiers of given `input_type` that you would like to search for. There are specific formats for PDB IDs of different `input_type`s\n",
    "|Type|PDB ID Format|Example|\n",
    "|---|---|---|\n",
    "|entries|entry id|4HHB|\n",
    "|polymer, branched, or non-polymer entities|[entry_id]_[entity_id]|4HHB_1|\n",
    "|polymer, branched, or non-polymer entity instances|[entry_id].[asym_id]|4HHB.A|\n",
    "|biological assemblies|[entry_id]-[assembly_id]|4HHB-1|\n",
    "|interface|[entry_id]-[assembly_id].[interface_id]|4HHB-1.1|\n",
    "\n",
    "`return_data_list`: the data to request for each of the given `input_ids`"
   ]
  },
  {
   "cell_type": "code",
   "execution_count": 4,
   "metadata": {},
   "outputs": [],
   "source": [
    "from rcsbapi.data import DataQuery as Query\n",
    "\n",
    "# Create a `DataQuery`/`Query` object\n",
    "query = Query(\n",
    "    input_type=\"entries\",\n",
    "    input_ids=[\"4HHB\"],  # CSM IDs can be used as well\n",
    "    return_data_list=[\"exptl.method\"]\n",
    ")"
   ]
  },
  {
   "cell_type": "code",
   "execution_count": 5,
   "metadata": {},
   "outputs": [],
   "source": [
    "# Execute the query using `.exec` method\n",
    "results = query.exec()"
   ]
  },
  {
   "cell_type": "code",
   "execution_count": 6,
   "metadata": {},
   "outputs": [
    {
     "name": "stdout",
     "output_type": "stream",
     "text": [
      "{'data': {'entries': [{'rcsb_id': '4HHB', 'exptl': [{'method': 'X-RAY DIFFRACTION'}]}]}}\n"
     ]
    }
   ],
   "source": [
    "# Response is returned by `.exec`\n",
    "print(results)"
   ]
  },
  {
   "cell_type": "code",
   "execution_count": 7,
   "metadata": {},
   "outputs": [
    {
     "name": "stdout",
     "output_type": "stream",
     "text": [
      "{'data': {'entries': [{'rcsb_id': '4HHB', 'exptl': [{'method': 'X-RAY DIFFRACTION'}]}]}}\n"
     ]
    }
   ],
   "source": [
    "# You can also access the response through the object\n",
    "print(query.get_response())"
   ]
  },
  {
   "cell_type": "markdown",
   "metadata": {},
   "source": [
    "By using the Search API and Data API together, you can first refine a list of IDs that are of interest and then request data on those particular structures.\n",
    "\n",
    "In the example below, I selected human structures associated with the phrase \"interleukin\" with investigational or experimental drugs. Once I've narrowed down my structures of interest, I request the structure's experimental method and resolution."
   ]
  },
  {
   "cell_type": "code",
   "execution_count": 9,
   "metadata": {},
   "outputs": [],
   "source": [
    "from rcsbapi.search import TextQuery\n",
    "from rcsbapi.search import search_attributes as attrs\n",
    "\n",
    "# Query for structures associated with phrase \"interleukin\" from Homo sapiens with investigational or experimental drugs\n",
    "q1 = TextQuery(\"interleukin\")\n",
    "q2 = attrs.rcsb_entity_source_organism.scientific_name == \"Homo sapiens\"\n",
    "q3 = attrs.drugbank_info.drug_groups == \"investigational\"\n",
    "q4 = attrs.drugbank_info.drug_groups == \"experimental\"\n",
    "\n",
    "search_query = q1 & q2 & (q3 | q4)\n",
    "results = search_query()\n",
    "\n",
    "# Get first 50 IDs from Search API query\n",
    "id_list = list(results)[:50]"
   ]
  },
  {
   "cell_type": "code",
   "execution_count": null,
   "metadata": {},
   "outputs": [
    {
     "name": "stderr",
     "output_type": "stream",
     "text": [
      "2025-03-12 12:24:17,173 [WARNING]-data_schema._construct_query_rustworkx: \n",
      "Some paths are being autocompleted based on the current API. If this code is meant for long-term use, use the set of fully qualified paths below:\n",
      "    [\n",
      "        \"exptl.method\",\n",
      "        \"rcsb_entry_info.diffrn_resolution_high.value\",\n",
      "    ]\n"
     ]
    },
    {
     "name": "stdout",
     "output_type": "stream",
     "text": [
      "{'data': {'entries': [{'rcsb_id': '5HN1', 'exptl': [{'method': 'X-RAY DIFFRACTION'}], 'rcsb_entry_info': {'diffrn_resolution_high': {'value': 2.25}}}, {'rcsb_id': '7OX5', 'exptl': [{'method': 'X-RAY DIFFRACTION'}], 'rcsb_entry_info': {'diffrn_resolution_high': {'value': 3.09}}}, {'rcsb_id': '6GG1', 'exptl': [{'method': 'X-RAY DIFFRACTION'}], 'rcsb_entry_info': {'diffrn_resolution_high': {'value': 1.3}}}, {'rcsb_id': '7S2S', 'exptl': [{'method': 'X-RAY DIFFRACTION'}], 'rcsb_entry_info': {'diffrn_resolution_high': {'value': 1.92}}}, {'rcsb_id': '5FB8', 'exptl': [{'method': 'X-RAY DIFFRACTION'}], 'rcsb_entry_info': {'diffrn_resolution_high': {'value': 2.07}}}, {'rcsb_id': '9H4O', 'exptl': [{'method': 'X-RAY DIFFRACTION'}], 'rcsb_entry_info': {'diffrn_resolution_high': {'value': 1.97}}}, {'rcsb_id': '6O4P', 'exptl': [{'method': 'X-RAY DIFFRACTION'}], 'rcsb_entry_info': {'diffrn_resolution_high': {'value': 3.43}}}, {'rcsb_id': '7OX3', 'exptl': [{'method': 'X-RAY DIFFRACTION'}], 'rcsb_entry_info': {'diffrn_resolution_high': {'value': 1.7}}}, {'rcsb_id': '8B7W', 'exptl': [{'method': 'X-RAY DIFFRACTION'}], 'rcsb_entry_info': {'diffrn_resolution_high': {'value': 2.85}}}, {'rcsb_id': '9ETH', 'exptl': [{'method': 'X-RAY DIFFRACTION'}], 'rcsb_entry_info': {'diffrn_resolution_high': {'value': 2.3}}}, {'rcsb_id': '8DY1', 'exptl': [{'method': 'X-RAY DIFFRACTION'}], 'rcsb_entry_info': {'diffrn_resolution_high': {'value': 2.68}}}, {'rcsb_id': '4MHL', 'exptl': [{'method': 'X-RAY DIFFRACTION'}], 'rcsb_entry_info': {'diffrn_resolution_high': {'value': 2.09}}}, {'rcsb_id': '1QE6', 'exptl': [{'method': 'X-RAY DIFFRACTION'}], 'rcsb_entry_info': {'diffrn_resolution_high': {'value': 2.35}}}, {'rcsb_id': '1JPY', 'exptl': [{'method': 'X-RAY DIFFRACTION'}], 'rcsb_entry_info': {'diffrn_resolution_high': {'value': 2.85}}}, {'rcsb_id': '4QHU', 'exptl': [{'method': 'X-RAY DIFFRACTION'}], 'rcsb_entry_info': {'diffrn_resolution_high': {'value': 2.2}}}, {'rcsb_id': '6O4O', 'exptl': [{'method': 'X-RAY DIFFRACTION'}], 'rcsb_entry_info': {'diffrn_resolution_high': {'value': 1.62}}}, {'rcsb_id': '8DPV', 'exptl': [{'method': 'X-RAY DIFFRACTION'}], 'rcsb_entry_info': {'diffrn_resolution_high': {'value': 1.48}}}, {'rcsb_id': '8DPW', 'exptl': [{'method': 'X-RAY DIFFRACTION'}], 'rcsb_entry_info': {'diffrn_resolution_high': {'value': 1.8}}}, {'rcsb_id': '7OX2', 'exptl': [{'method': 'X-RAY DIFFRACTION'}], 'rcsb_entry_info': {'diffrn_resolution_high': {'value': 3.34}}}, {'rcsb_id': '2VXS', 'exptl': [{'method': 'X-RAY DIFFRACTION'}], 'rcsb_entry_info': {'diffrn_resolution_high': {'value': 2.63}}}, {'rcsb_id': '6HGO', 'exptl': [{'method': 'X-RAY DIFFRACTION'}], 'rcsb_entry_info': {'diffrn_resolution_high': {'value': 2.1}}}, {'rcsb_id': '2RA4', 'exptl': [{'method': 'X-RAY DIFFRACTION'}], 'rcsb_entry_info': {'diffrn_resolution_high': {'value': 1.7}}}, {'rcsb_id': '5TOZ', 'exptl': [{'method': 'X-RAY DIFFRACTION'}], 'rcsb_entry_info': {'diffrn_resolution_high': {'value': 1.98}}}, {'rcsb_id': '5TTU', 'exptl': [{'method': 'X-RAY DIFFRACTION'}], 'rcsb_entry_info': {'diffrn_resolution_high': {'value': 1.72}}}, {'rcsb_id': '6DUD', 'exptl': [{'method': 'X-RAY DIFFRACTION'}], 'rcsb_entry_info': {'diffrn_resolution_high': {'value': 1.66}}}, {'rcsb_id': '7Q6H', 'exptl': [{'method': 'X-RAY DIFFRACTION'}], 'rcsb_entry_info': {'diffrn_resolution_high': {'value': 1.75}}}, {'rcsb_id': '3WO3', 'exptl': [{'method': 'X-RAY DIFFRACTION'}], 'rcsb_entry_info': {'diffrn_resolution_high': {'value': 3.1}}}, {'rcsb_id': '1N26', 'exptl': [{'method': 'X-RAY DIFFRACTION'}], 'rcsb_entry_info': {'diffrn_resolution_high': {'value': 2.4}}}, {'rcsb_id': '3WO2', 'exptl': [{'method': 'X-RAY DIFFRACTION'}], 'rcsb_entry_info': {'diffrn_resolution_high': {'value': 2.33}}}, {'rcsb_id': '3LQM', 'exptl': [{'method': 'X-RAY DIFFRACTION'}], 'rcsb_entry_info': {'diffrn_resolution_high': {'value': 2.14}}}, {'rcsb_id': '4CG4', 'exptl': [{'method': 'X-RAY DIFFRACTION'}], 'rcsb_entry_info': {'diffrn_resolution_high': {'value': 2.4}}}, {'rcsb_id': '3L5H', 'exptl': [{'method': 'X-RAY DIFFRACTION'}], 'rcsb_entry_info': {'diffrn_resolution_high': {'value': 3.6}}}, {'rcsb_id': '7OUB', 'exptl': [{'method': 'X-RAY DIFFRACTION'}], 'rcsb_entry_info': {'diffrn_resolution_high': {'value': 1.82}}}, {'rcsb_id': '3TGX', 'exptl': [{'method': 'X-RAY DIFFRACTION'}], 'rcsb_entry_info': {'diffrn_resolution_high': {'value': 2.8}}}, {'rcsb_id': '7S2R', 'exptl': [{'method': 'X-RAY DIFFRACTION'}], 'rcsb_entry_info': {'diffrn_resolution_high': {'value': 2.49}}}, {'rcsb_id': '5J13', 'exptl': [{'method': 'X-RAY DIFFRACTION'}], 'rcsb_entry_info': {'diffrn_resolution_high': {'value': 2.3}}}, {'rcsb_id': '5M5E', 'exptl': [{'method': 'X-RAY DIFFRACTION'}], 'rcsb_entry_info': {'diffrn_resolution_high': {'value': 2.3}}}, {'rcsb_id': '5UWC', 'exptl': [{'method': 'X-RAY DIFFRACTION'}], 'rcsb_entry_info': {'diffrn_resolution_high': {'value': 2.4}}}, {'rcsb_id': '4OIJ', 'exptl': [{'method': 'X-RAY DIFFRACTION'}], 'rcsb_entry_info': {'diffrn_resolution_high': {'value': 2.0}}}, {'rcsb_id': '3G6D', 'exptl': [{'method': 'X-RAY DIFFRACTION'}], 'rcsb_entry_info': {'diffrn_resolution_high': {'value': 3.2}}}, {'rcsb_id': '7DC8', 'exptl': [{'method': 'X-RAY DIFFRACTION'}], 'rcsb_entry_info': {'diffrn_resolution_high': {'value': 2.75}}}, {'rcsb_id': '3W3J', 'exptl': [{'method': 'X-RAY DIFFRACTION'}], 'rcsb_entry_info': {'diffrn_resolution_high': {'value': 2.0}}}, {'rcsb_id': '3W3L', 'exptl': [{'method': 'X-RAY DIFFRACTION'}], 'rcsb_entry_info': {'diffrn_resolution_high': {'value': 2.33}}}, {'rcsb_id': '3W3M', 'exptl': [{'method': 'X-RAY DIFFRACTION'}], 'rcsb_entry_info': {'diffrn_resolution_high': {'value': 2.7}}}, {'rcsb_id': '4R08', 'exptl': [{'method': 'X-RAY DIFFRACTION'}], 'rcsb_entry_info': {'diffrn_resolution_high': {'value': 2.4}}}, {'rcsb_id': '4R0A', 'exptl': [{'method': 'X-RAY DIFFRACTION'}], 'rcsb_entry_info': {'diffrn_resolution_high': {'value': 1.9}}}, {'rcsb_id': '5HDH', 'exptl': [{'method': 'X-RAY DIFFRACTION'}], 'rcsb_entry_info': {'diffrn_resolution_high': {'value': 2.6}}}, {'rcsb_id': '9MHY', 'exptl': [{'method': 'X-RAY DIFFRACTION'}], 'rcsb_entry_info': {'diffrn_resolution_high': {'value': 1.66}}}, {'rcsb_id': '1BQU', 'exptl': [{'method': 'X-RAY DIFFRACTION'}], 'rcsb_entry_info': {'diffrn_resolution_high': {'value': 2.0}}}, {'rcsb_id': '5E4E', 'exptl': [{'method': 'X-RAY DIFFRACTION'}], 'rcsb_entry_info': {'diffrn_resolution_high': {'value': 3.0}}}]}}\n"
     ]
    }
   ],
   "source": [
    "from rcsbapi.data import DataQuery as Query\n",
    "\n",
    "# Use `id_list` to make Data API query\n",
    "data_query = Query(\n",
    "    input_type=\"entries\",\n",
    "    input_ids=id_list,\n",
    "    return_data_list=[\"exptl.method\", \"diffrn_resolution_high.value\"]\n",
    ")\n",
    "\n",
    "results = data_query.exec()\n",
    "print(results)"
   ]
  },
  {
   "cell_type": "markdown",
   "metadata": {},
   "source": [
    "If you're interested in archive-wide data, you can use ALL_STRUCTURES to request fields for every `entry` or `chem_comp` in the PDB. Note that these queries will take longer to complete than queries using fewer structures."
   ]
  },
  {
   "cell_type": "code",
   "execution_count": 12,
   "metadata": {},
   "outputs": [
    {
     "ename": "ImportError",
     "evalue": "cannot import name 'ALL_STRUCTURES' from 'rcsbapi.data' (/Users/itruong/.pyenv/versions/3.12.8/lib/python3.12/site-packages/rcsbapi/data/__init__.py)",
     "output_type": "error",
     "traceback": [
      "\u001b[31m---------------------------------------------------------------------------\u001b[39m",
      "\u001b[31mImportError\u001b[39m                               Traceback (most recent call last)",
      "\u001b[36mCell\u001b[39m\u001b[36m \u001b[39m\u001b[32mIn[12]\u001b[39m\u001b[32m, line 1\u001b[39m\n\u001b[32m----> \u001b[39m\u001b[32m1\u001b[39m \u001b[38;5;28;01mfrom\u001b[39;00m\u001b[38;5;250m \u001b[39m\u001b[34;01mrcsbapi\u001b[39;00m\u001b[34;01m.\u001b[39;00m\u001b[34;01mdata\u001b[39;00m\u001b[38;5;250m \u001b[39m\u001b[38;5;28;01mimport\u001b[39;00m ALL_STRUCTURES\n\u001b[32m      2\u001b[39m \u001b[38;5;28;01mfrom\u001b[39;00m\u001b[38;5;250m \u001b[39m\u001b[34;01mrcsbapi\u001b[39;00m\u001b[34;01m.\u001b[39;00m\u001b[34;01mdata\u001b[39;00m\u001b[38;5;250m \u001b[39m\u001b[38;5;28;01mimport\u001b[39;00m DataQuery \u001b[38;5;28;01mas\u001b[39;00m Query\n\u001b[32m      4\u001b[39m query = Query(\n\u001b[32m      5\u001b[39m     input_type=\u001b[33m\"\u001b[39m\u001b[33mchem_comps\u001b[39m\u001b[33m\"\u001b[39m,\n\u001b[32m      6\u001b[39m     input_ids=ALL_STRUCTURES,\n\u001b[32m      7\u001b[39m     return_data_list=[\u001b[33m\"\u001b[39m\u001b[33mdrugbank_info.drugbank_id\u001b[39m\u001b[33m\"\u001b[39m]\n\u001b[32m      8\u001b[39m )\n",
      "\u001b[31mImportError\u001b[39m: cannot import name 'ALL_STRUCTURES' from 'rcsbapi.data' (/Users/itruong/.pyenv/versions/3.12.8/lib/python3.12/site-packages/rcsbapi/data/__init__.py)"
     ]
    }
   ],
   "source": [
    "from rcsbapi.data import ALL_STRUCTURES\n",
    "from rcsbapi.data import DataQuery as Query\n",
    "\n",
    "query = Query(\n",
    "    input_type=\"chem_comps\",\n",
    "    input_ids=ALL_STRUCTURES,\n",
    "    return_data_list=[\"drugbank_info.drugbank_id\"]\n",
    ")\n",
    "\n",
    "# Set progress_bar to True to track query's progress\n",
    "# progress bar shows number of completed batches\n",
    "query.exec(progress_bar=True)"
   ]
  },
  {
   "cell_type": "markdown",
   "metadata": {},
   "source": [
    "## Visualizing and Manipulating Queries"
   ]
  },
  {
   "cell_type": "markdown",
   "metadata": {},
   "source": [
    "Once you have constructed a query, you can visualize it in our Data API query editor by using the `get_editor_link` method."
   ]
  },
  {
   "cell_type": "code",
   "execution_count": 13,
   "metadata": {},
   "outputs": [
    {
     "name": "stdout",
     "output_type": "stream",
     "text": [
      "https://data.rcsb.org/graphql/index.html?query=%7B%20entries%28entry_ids%3A%20%5B%224HHB%22%5D%29%20%7B%0A%20%20rcsb_id%0A%20%20%20%20exptl%7B%0A%20%20%20%20%20%20method%0A%20%20%20%20%20%20%7D%0A%20%7D%0A%7D%0A\n"
     ]
    }
   ],
   "source": [
    "from rcsbapi.data import DataQuery as Query\n",
    "\n",
    "query = Query(input_type=\"entries\", input_ids=[\"4HHB\"], return_data_list=[\"exptl.method\"])\n",
    "print(query.get_editor_link())"
   ]
  },
  {
   "cell_type": "markdown",
   "metadata": {},
   "source": [
    "# Working with the Schema"
   ]
  },
  {
   "cell_type": "markdown",
   "metadata": {},
   "source": [
    "To explore the Data API schema through the package, you can use the `find_field_names` and `find_paths` methods"
   ]
  },
  {
   "cell_type": "code",
   "execution_count": 17,
   "metadata": {},
   "outputs": [
    {
     "data": {
      "text/plain": [
       "['rcsb_ligand_neighbors',\n",
       " 'ligand_alt_id',\n",
       " 'ligand_asym_id',\n",
       " 'ligand_atom_id',\n",
       " 'ligand_comp_id',\n",
       " 'ligand_entity_id',\n",
       " 'ligand_is_bound',\n",
       " 'ligand_model_id',\n",
       " 'ligands_for_buster_report',\n",
       " 'pdbx_B_iso_mean_ligand',\n",
       " 'pdbx_number_atoms_ligand']"
      ]
     },
     "execution_count": 17,
     "metadata": {},
     "output_type": "execute_result"
    }
   ],
   "source": [
    "from rcsbapi.data import DataSchema\n",
    "\n",
    "# Initialize a schema object\n",
    "schema = DataSchema()\n",
    "\n",
    "# To search for fields use `find_field_names`\n",
    "schema.find_field_names(\"ligand\")"
   ]
  },
  {
   "cell_type": "code",
   "execution_count": 18,
   "metadata": {},
   "outputs": [
    {
     "data": {
      "text/plain": [
       "['assemblies.branched_entity_instances.rcsb_ligand_neighbors',\n",
       " 'assemblies.polymer_entity_instances.rcsb_ligand_neighbors',\n",
       " 'branched_entities.branched_entity_instances.rcsb_ligand_neighbors',\n",
       " 'polymer_entities.polymer_entity_instances.rcsb_ligand_neighbors']"
      ]
     },
     "execution_count": 18,
     "metadata": {},
     "output_type": "execute_result"
    }
   ],
   "source": [
    "# Pick your intended field and find the path from your desired `input_type` using `find_paths`\n",
    "schema.find_paths(\n",
    "    input_type=\"entries\",\n",
    "    return_data_name=\"rcsb_ligand_neighbors\"\n",
    ")"
   ]
  },
  {
   "cell_type": "markdown",
   "metadata": {},
   "source": [
    "You can also explore our schema through our [Data API query editor](https://data.rcsb.org/graphql/index.html)'s Documentation Explorer"
   ]
  },
  {
   "cell_type": "markdown",
   "metadata": {},
   "source": [
    "## Further Documentation"
   ]
  },
  {
   "cell_type": "markdown",
   "metadata": {},
   "source": [
    "For more extensive examples and implementation details visit our [readthedocs](https://rcsbapi.readthedocs.io/en/latest/data_api/quickstart.html)."
   ]
  }
 ],
 "metadata": {
  "kernelspec": {
   "display_name": "3.12.8",
   "language": "python",
   "name": "python3"
  },
  "language_info": {
   "codemirror_mode": {
    "name": "ipython",
    "version": 3
   },
   "file_extension": ".py",
   "mimetype": "text/x-python",
   "name": "python",
   "nbconvert_exporter": "python",
   "pygments_lexer": "ipython3",
   "version": "3.12.8"
  }
 },
 "nbformat": 4,
 "nbformat_minor": 2
}
