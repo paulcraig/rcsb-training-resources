{
 "cells": [
  {
   "cell_type": "markdown",
   "metadata": {},
   "source": [
    "<a href=\"https://colab.research.google.com/github/rcsb/rcsb-training-resources/blob/master/training-events/2025/search_api_streamlining_access_to_rcsb_pdb_apis_with_python/data_api.ipynb\" target=\"_parent\"><img src=\"https://colab.research.google.com/assets/colab-badge.svg\" alt=\"Open In Colab\"/></a>"
   ]
  },
  {
   "cell_type": "markdown",
   "metadata": {},
   "source": [
    "# Using `py-rcsb-api` to access RCSB PDB's Data API"
   ]
  },
  {
   "cell_type": "code",
   "execution_count": null,
   "metadata": {},
   "outputs": [],
   "source": [
    "# Install `py-rcsb-api`\n",
    "%pip install --upgrade rcsb-api"
   ]
  },
  {
   "cell_type": "markdown",
   "metadata": {},
   "source": [
    "## Creating a Data API Query"
   ]
  },
  {
   "cell_type": "markdown",
   "metadata": {},
   "source": [
    "A few arguments are required to create a query:\n",
    "\n",
    "`input_type`: defines the starting point of your query. Some examples include `entries`, `polymer_entities`, `chem_comps`.\n",
    "\n",
    "`input_ids`: the specific identifiers of given `input_type` that you would like to search for. If you're unsure which `input_type` to choose, you can usually use `entries`\n",
    "\n",
    "|Type|PDB ID Format|Example|\n",
    "|---|---|---|\n",
    "|entries|entry id|4HHB|\n",
    "|polymer, branched, or non-polymer entities|[entry_id]_[entity_id]|4HHB_1|\n",
    "|polymer, branched, or non-polymer entity instances|[entry_id].[asym_id]|4HHB.A|\n",
    "|biological assemblies|[entry_id]-[assembly_id]|4HHB-1|\n",
    "|interface|[entry_id]-[assembly_id].[interface_id]|4HHB-1.1|\n",
    "\n",
    "`return_data_list`: the data to request for each of the given `input_ids`"
   ]
  },
  {
   "cell_type": "markdown",
   "metadata": {},
   "source": [
    "We'll start by making a Data API query to find the experimental method used to determine PDB entry 4HHB."
   ]
  },
  {
   "cell_type": "code",
   "execution_count": null,
   "metadata": {},
   "outputs": [],
   "source": [
    "from rcsbapi.data import DataQuery as Query\n",
    "\n",
    "# Create a `DataQuery`/`Query` object\n",
    "query = Query(\n",
    "    input_type=\"entries\",\n",
    "    input_ids=[\"4HHB\"],  # CSM IDs can be used as well\n",
    "    return_data_list=[\"exptl.method\"]\n",
    ")\n",
    "\n",
    "results = query.exec()\n",
    "print(results)\n",
    "# print(query.get_response()) would be equivalent"
   ]
  },
  {
   "cell_type": "markdown",
   "metadata": {},
   "source": [
    "By using the Search API and Data API together, you can refine a list of IDs that are of interest to you and then request data on those particular structures.\n",
    "\n",
    "In the example below, I selected human structures associated with the phrase \"interleukin\" with investigational/experimental drugs. Once I've narrowed down my structures of interest, I request the structure's experimental method and resolution."
   ]
  },
  {
   "cell_type": "code",
   "execution_count": null,
   "metadata": {},
   "outputs": [],
   "source": [
    "from rcsbapi.search import TextQuery\n",
    "from rcsbapi.search import search_attributes as attrs\n",
    "\n",
    "# Query for structures associated with phrase \"interleukin\" from Homo sapiens with investigational or experimental drugs\n",
    "\n",
    "q1 = TextQuery(\"interleukin\")\n",
    "# You can also make `AttributeQuery`s using `search_attributes` object and operators\n",
    "q2 = attrs.rcsb_entity_source_organism.scientific_name == \"Homo sapiens\"\n",
    "q3 = attrs.drugbank_info.drug_groups == \"investigational\"\n",
    "q4 = attrs.drugbank_info.drug_groups == \"experimental\"\n",
    "\n",
    "query = q1 & q2 & (q3 | q4)\n",
    "results = query()\n",
    "\n",
    "# Get IDs from Search API query\n",
    "id_list = list(results)\n",
    "\n",
    "# Use `id_list` to make Data API query"
   ]
  },
  {
   "cell_type": "markdown",
   "metadata": {},
   "source": [
    "If you're interested in archive-wide data, you can use ALL_STRUCTURES to request fields for every `entry` or `chem_comp` in the PDB. Note that these queries will of course take longer to complete than queries using fewer structures."
   ]
  }
 ],
 "metadata": {
  "kernelspec": {
   "display_name": "3.12.8",
   "language": "python",
   "name": "python3"
  },
  "language_info": {
   "codemirror_mode": {
    "name": "ipython",
    "version": 3
   },
   "file_extension": ".py",
   "mimetype": "text/x-python",
   "name": "python",
   "nbconvert_exporter": "python",
   "pygments_lexer": "ipython3",
   "version": "3.12.8"
  }
 },
 "nbformat": 4,
 "nbformat_minor": 2
}
