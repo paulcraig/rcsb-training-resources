{
 "cells": [
  {
   "cell_type": "markdown",
   "metadata": {},
   "source": [
    "<a href=\"https://colab.research.google.com/github/rcsb/rcsb-training-resources/blob/master/training-events/2025/search_api_streamlining_access_to_rcsb_pdb_apis_with_python/search_api.ipynb\" target=\"_parent\"><img src=\"https://colab.research.google.com/assets/colab-badge.svg\" alt=\"Open In Colab\"/></a>"
   ]
  },
  {
   "cell_type": "markdown",
   "metadata": {},
   "source": [
    "# Using `py-rcsb-api` to access RCSB PDB's Search API"
   ]
  },
  {
   "cell_type": "code",
   "execution_count": null,
   "metadata": {},
   "outputs": [],
   "source": [
    "# Install `py-rcsb-api`\n",
    "%pip install --upgrade rcsb-api"
   ]
  },
  {
   "cell_type": "markdown",
   "metadata": {},
   "source": [
    "## Creating a Search API Query"
   ]
  },
  {
   "cell_type": "markdown",
   "metadata": {},
   "source": [
    "We'll start by using `TextQuery` and `AttributeQuery` to search for PDB IDs associated with the phrase \"Hemoglobin\" and from Homo sapiens."
   ]
  },
  {
   "cell_type": "code",
   "execution_count": null,
   "metadata": {},
   "outputs": [],
   "source": [
    "from rcsbapi.search import TextQuery, AttributeQuery\n",
    "\n",
    "# Search for structures associated with the phrase \"Hemoglobin\"\n",
    "q1 = TextQuery(value=\"Hemoglobin\")\n",
    "q2 = AttributeQuery(\n",
    "    attribute=\"rcsb_entity_source_organism.scientific_name\",\n",
    "    operator=\"exact_match\",  # Other operators include \"contains_phrase\", \"exists\", and more\n",
    "    value=\"Homo sapiens\"\n",
    ")\n",
    "\n",
    "# Use operators to combine queries\n",
    "# & = AND\n",
    "# | = OR\n",
    "# ~ = NOT\n",
    "query = q1 & q2\n",
    "\n",
    "# Execute the query by running it as a function\n",
    "results = query()\n",
    "\n",
    "# Results are returned as an iterator of result identifiers.\n",
    "# for rid in results:\n",
    "#     print(rid)\n",
    "\n",
    "# Can also convert results to a list\n",
    "# print(list(results))"
   ]
  },
  {
   "cell_type": "markdown",
   "metadata": {},
   "source": [
    "By default, queries return only the ids of experimentally-determined models. You can control whether Computed Structure Models (CSMs) are returned through the `return_content_type` parameter."
   ]
  },
  {
   "cell_type": "code",
   "execution_count": null,
   "metadata": {},
   "outputs": [],
   "source": [
    "# Using the above query. Return both experimental models and CSMs\n",
    "results = query(return_content_type=[\"computational\", \"experimental\"])\n",
    "print(list(results))"
   ]
  },
  {
   "cell_type": "markdown",
   "metadata": {},
   "source": [
    "The search API offers many other types of search as well, and these are also supported by the Python package.\n",
    "\n",
    "To find examples of all of the below queries, check out our [readthedocs](https://rcsbapi.readthedocs.io/en/latest/search_api/additional_examples.html) page.\n",
    "\n",
    "|Search service                    |QueryType                 |\n",
    "|----------------------------------|--------------------------|\n",
    "|Full-text                         |`TextQuery()`             |\n",
    "|Attribute (structure or chemical) |`AttributeQuery()`        |\n",
    "|Sequence similarity               |`SeqSimilarityQuery()`    |\n",
    "|Sequence motif                    |`SeqMotifQuery()`         |\n",
    "|Structure similarity              |`StructSimilarityQuery()` |\n",
    "|Structure motif                   |`StructMotifQuery()`      |\n",
    "|Chemical similarity               |`ChemSimilarityQuery()`   |"
   ]
  },
  {
   "cell_type": "markdown",
   "metadata": {},
   "source": [
    "Our Search API and Search API package support `facets`. Faceted queries will sort results into buckets based on the returned values. This allows you to calculate statistics for your results.\n",
    "\n",
    "For example, you can search for how many models released since 2000 were determined by each experimental method."
   ]
  },
  {
   "cell_type": "code",
   "execution_count": 12,
   "metadata": {},
   "outputs": [
    {
     "name": "stdout",
     "output_type": "stream",
     "text": [
      "[{'buckets': [{'label': 'X-RAY DIFFRACTION', 'population': 183168},\n",
      "              {'label': 'ELECTRON MICROSCOPY', 'population': 25130},\n",
      "              {'label': 'SOLUTION NMR', 'population': 12606}],\n",
      "  'name': 'Experimental Methods'}]\n"
     ]
    }
   ],
   "source": [
    "from rcsbapi.search import AttributeQuery\n",
    "from rcsbapi.search import Facet\n",
    "\n",
    "#For prettier output\n",
    "from pprint import pprint\n",
    "\n",
    "# Define the query\n",
    "q = AttributeQuery(\n",
    "    attribute=\"rcsb_accession_info.initial_release_date\",\n",
    "    operator=\"greater\",\n",
    "    value=\"2000-01-01\",\n",
    ") \n",
    "\n",
    "# Add a facet when executing the query\n",
    "results = q(\n",
    "    facets= Facet(\n",
    "        name=\"Experimental Methods\",\n",
    "        aggregation_type=\"terms\",\n",
    "        attribute=\"exptl.method\",\n",
    "        min_interval_population=1000\n",
    "    )\n",
    ")\n",
    "\n",
    "# Accessing facet results\n",
    "pprint(results.facets)"
   ]
  },
  {
   "cell_type": "markdown",
   "metadata": {},
   "source": [
    "For more information on using `facets`, check out our [API documentation](https://search.rcsb.org/#using-facets) and [readthedocs](https://rcsbapi.readthedocs.io/en/latest/search_api/additional_examples.html#faceted-query-examples).\n",
    "\n",
    "You can find additional examples using other API features like [grouping results](https://rcsbapi.readthedocs.io/en/latest/search_api/additional_examples.html#faceted-query-examples) and [sorting results](https://rcsbapi.readthedocs.io/en/latest/search_api/additional_examples.html#sort-example) on our readthedocs."
   ]
  },
  {
   "cell_type": "markdown",
   "metadata": {},
   "source": [
    "## Visualizing and Manipulating Queries"
   ]
  },
  {
   "cell_type": "markdown",
   "metadata": {},
   "source": [
    "Once you have a query constructed, you can look at the full query in our Search API query editor or on the advanced query builder."
   ]
  },
  {
   "cell_type": "code",
   "execution_count": 17,
   "metadata": {},
   "outputs": [],
   "source": [
    "from rcsbapi.search import TextQuery\n",
    "from rcsbapi.search import search_attributes as attrs\n",
    "\n",
    "# Query for structures associated with phrase \"interleukin\" from Homo sapiens with investigational or experimental drugs\n",
    "\n",
    "q1 = TextQuery(\"interleukin\")\n",
    "# You can also make `AttributeQuery`s using `search_attributes` object and operators\n",
    "q2 = attrs.rcsb_entity_source_organism.scientific_name == \"Homo sapiens\"\n",
    "q3 = attrs.drugbank_info.drug_groups == \"investigational\"\n",
    "q4 = attrs.drugbank_info.drug_groups == \"experimental\"\n",
    "\n",
    "query = q1 & q2 & (q3 | q4)\n",
    "results = query()"
   ]
  },
  {
   "cell_type": "code",
   "execution_count": null,
   "metadata": {},
   "outputs": [],
   "source": [
    "# Get link to Search API query editor\n",
    "print(results.get_editor_link())"
   ]
  },
  {
   "cell_type": "code",
   "execution_count": null,
   "metadata": {},
   "outputs": [],
   "source": [
    "# Get link to advanced query builder populated with query\n",
    "# From the builder, you can edit query and also access query editor\n",
    "print(results.get_query_builder_link())"
   ]
  },
  {
   "cell_type": "markdown",
   "metadata": {},
   "source": [
    "## Exploring the API Schema"
   ]
  },
  {
   "cell_type": "markdown",
   "metadata": {},
   "source": [
    "There are several ways to find attribute names and descriptions for attributes. One way is to look at our Search API documentation which is split into [structure attributes](https://search.rcsb.org/structure-search-attributes.html) and [chemical attributes](https://search.rcsb.org/chemical-search-attributes.html).\n",
    "\n",
    "You can also go to the [advanced search query builder](https://www.rcsb.org/search/advanced) and then click the Search API button to access the query editor."
   ]
  },
  {
   "cell_type": "markdown",
   "metadata": {},
   "source": [
    "![Advanced search query builder with \"Search API\" button highlighted](advanced_query_builder.png)"
   ]
  },
  {
   "cell_type": "markdown",
   "metadata": {},
   "source": [
    "You can also explore attributes and their descriptions through the package itself."
   ]
  },
  {
   "cell_type": "code",
   "execution_count": null,
   "metadata": {},
   "outputs": [],
   "source": [
    "from rcsbapi.search import search_attributes as attrs\n",
    "\n",
    "# Search attributes based on a string or regex pattern\n",
    "attrs.search(\"ligand\")"
   ]
  },
  {
   "cell_type": "code",
   "execution_count": null,
   "metadata": {},
   "outputs": [],
   "source": [
    "# If you already know the name of the attribute, you can search using `get_attribute_details`\n",
    "attrs.get_attribute_details(attribute=\"rcsb_ligand_neighbors.ligand_is_bound\")"
   ]
  },
  {
   "cell_type": "markdown",
   "metadata": {},
   "source": [
    "See our [readthedocs](https://rcsbapi.readthedocs.io/en/latest/search_api/api.html) page for additional examples using different search services and features like facets and grouping."
   ]
  }
 ],
 "metadata": {
  "kernelspec": {
   "display_name": "3.12.8",
   "language": "python",
   "name": "python3"
  },
  "language_info": {
   "codemirror_mode": {
    "name": "ipython",
    "version": 3
   },
   "file_extension": ".py",
   "mimetype": "text/x-python",
   "name": "python",
   "nbconvert_exporter": "python",
   "pygments_lexer": "ipython3",
   "version": "3.12.8"
  }
 },
 "nbformat": 4,
 "nbformat_minor": 2
}
